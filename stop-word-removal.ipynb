{
 "cells": [
  {
   "cell_type": "markdown",
   "id": "50d899a2",
   "metadata": {
    "papermill": {
     "duration": 0.00648,
     "end_time": "2024-11-18T17:41:30.693924",
     "exception": false,
     "start_time": "2024-11-18T17:41:30.687444",
     "status": "completed"
    },
    "tags": []
   },
   "source": []
  },
  {
   "cell_type": "code",
   "execution_count": 1,
   "id": "fc204d55",
   "metadata": {
    "_cell_guid": "b1076dfc-b9ad-4769-8c92-a6c4dae69d19",
    "_uuid": "8f2839f25d086af736a60e9eeb907d3b93b6e0e5",
    "execution": {
     "iopub.execute_input": "2024-11-18T17:41:30.707023Z",
     "iopub.status.busy": "2024-11-18T17:41:30.706611Z",
     "iopub.status.idle": "2024-11-18T17:41:32.721168Z",
     "shell.execute_reply": "2024-11-18T17:41:32.720179Z"
    },
    "papermill": {
     "duration": 2.023679,
     "end_time": "2024-11-18T17:41:32.723441",
     "exception": false,
     "start_time": "2024-11-18T17:41:30.699762",
     "status": "completed"
    },
    "tags": []
   },
   "outputs": [
    {
     "name": "stdout",
     "output_type": "stream",
     "text": [
      "[nltk_data] Downloading package stopwords to /usr/share/nltk_data...\n",
      "[nltk_data]   Package stopwords is already up-to-date!\n",
      "This sentence stop words.\n"
     ]
    }
   ],
   "source": [
    "# This code will remove all punctuation from the text and print the following output:\n",
    "import nltk\n",
    "nltk.download('stopwords')\n",
    "import re\n",
    "from nltk.corpus import stopwords\n",
    "\n",
    "stop_words = set(stopwords.words('english'))\n",
    "\n",
    "text = \"This is a sentence with stop words.\"\n",
    "words = text.split()\n",
    "clean_words = [word for word in words if word not in stop_words]\n",
    "clean_text = \" \".join(clean_words)\n",
    "print(clean_text)"
   ]
  },
  {
   "cell_type": "markdown",
   "id": "6348b4ec",
   "metadata": {
    "papermill": {
     "duration": 0.00546,
     "end_time": "2024-11-18T17:41:32.734676",
     "exception": false,
     "start_time": "2024-11-18T17:41:32.729216",
     "status": "completed"
    },
    "tags": []
   },
   "source": [
    "# stop_words"
   ]
  },
  {
   "cell_type": "code",
   "execution_count": 2,
   "id": "174bdcd2",
   "metadata": {
    "execution": {
     "iopub.execute_input": "2024-11-18T17:41:32.747890Z",
     "iopub.status.busy": "2024-11-18T17:41:32.747394Z",
     "iopub.status.idle": "2024-11-18T17:41:32.834528Z",
     "shell.execute_reply": "2024-11-18T17:41:32.833468Z"
    },
    "papermill": {
     "duration": 0.096232,
     "end_time": "2024-11-18T17:41:32.836607",
     "exception": false,
     "start_time": "2024-11-18T17:41:32.740375",
     "status": "completed"
    },
    "tags": []
   },
   "outputs": [
    {
     "name": "stdout",
     "output_type": "stream",
     "text": [
      "[nltk_data] Downloading package punkt to /usr/share/nltk_data...\n",
      "[nltk_data]   Package punkt is already up-to-date!\n"
     ]
    },
    {
     "data": {
      "text/plain": [
       "True"
      ]
     },
     "execution_count": 2,
     "metadata": {},
     "output_type": "execute_result"
    }
   ],
   "source": [
    "import nltk\n",
    "nltk.download('punkt')"
   ]
  },
  {
   "cell_type": "code",
   "execution_count": 3,
   "id": "8663c8b1",
   "metadata": {
    "execution": {
     "iopub.execute_input": "2024-11-18T17:41:32.850852Z",
     "iopub.status.busy": "2024-11-18T17:41:32.850484Z",
     "iopub.status.idle": "2024-11-18T17:41:38.349732Z",
     "shell.execute_reply": "2024-11-18T17:41:38.348594Z"
    },
    "papermill": {
     "duration": 5.508705,
     "end_time": "2024-11-18T17:41:38.352143",
     "exception": false,
     "start_time": "2024-11-18T17:41:32.843438",
     "status": "completed"
    },
    "tags": []
   },
   "outputs": [],
   "source": [
    "import spacy\n",
    "nlp = spacy.load('en_core_web_sm')"
   ]
  },
  {
   "cell_type": "code",
   "execution_count": 4,
   "id": "3e4c7260",
   "metadata": {
    "execution": {
     "iopub.execute_input": "2024-11-18T17:41:38.367367Z",
     "iopub.status.busy": "2024-11-18T17:41:38.366456Z",
     "iopub.status.idle": "2024-11-18T17:41:38.372200Z",
     "shell.execute_reply": "2024-11-18T17:41:38.371034Z"
    },
    "papermill": {
     "duration": 0.015388,
     "end_time": "2024-11-18T17:41:38.374166",
     "exception": false,
     "start_time": "2024-11-18T17:41:38.358778",
     "status": "completed"
    },
    "tags": []
   },
   "outputs": [
    {
     "name": "stdout",
     "output_type": "stream",
     "text": [
      "{'she', \"'s\", 'hereby', 'when', 'fifteen', 'below', 'while', 'two', 'such', 'hers', 'no', 'latterly', 'your', 'my', 'already', 'are', 'together', 'nowhere', 'yet', 'other', 'used', 'n’t', 'everywhere', '‘m', 'still', 'whether', 'around', 'down', 'top', 'anywhere', 'from', 'did', 'should', 'her', 'often', 'once', 'by', \"n't\", 'they', 'thus', 'whose', 'something', 'give', 'had', 'becoming', 'rather', 'been', 'into', 'under', 'elsewhere', 'has', 'that', 'nothing', 'therein', 'neither', 'full', 'none', 'how', '’d', 'for', '‘re', 'what', \"'m\", 'here', 'doing', 'toward', 'the', 'next', 'hundred', 'up', 'who', 'take', 'forty', 'yourselves', 'mine', 'twenty', 'among', 'after', 'herein', 'or', 'before', 'become', 'again', 'call', 'beforehand', 'can', 'regarding', 'ourselves', 'some', 'but', 'someone', 'yours', 'being', 'everyone', 'first', 'about', 'beside', 'themselves', 'move', 'empty', 'himself', 'meanwhile', 'whom', 'front', 'noone', 'whereafter', 'thereafter', 'within', 'others', 'six', 'will', \"'d\", 'were', 'nine', 'than', '’s', 'side', 'besides', 'an', 'always', 'only', 'and', 'former', 'put', 'whereas', 'namely', 'one', 'because', 'whenever', 'more', 'to', 'ever', 'part', 'thereby', 'as', 'may', 'onto', 'him', 'quite', 'during', 'at', 'beyond', 'if', 'anyway', 'n‘t', 'whereupon', 'very', 'their', 'seeming', 'go', 'our', 'last', 'yourself', 'upon', 'of', 'in', 'ca', 'a', 'why', 'hereupon', 'on', 'eleven', 'so', 'over', 'five', 'whence', 'whereby', 'even', 'through', 'anything', 'does', 'made', 'least', 'until', 'much', \"'ll\", 'cannot', 'latter', 'too', 'third', 'unless', \"'ve\", 'further', 'except', 'afterwards', 'via', 'do', 'moreover', 'with', 'since', 'both', 'most', 'ten', '‘ll', 'another', 'anyone', 'must', 'along', 'make', 'every', 'he', 'also', 'anyhow', 'ours', 'sometime', 'whole', 'almost', 'was', 'though', 'above', 'wherever', 'where', 'herself', 'sixty', 'otherwise', 'everything', 'somewhere', 'this', 'say', 'became', '’ll', 'amongst', 'itself', 'any', 'towards', 'wherein', 'these', 'else', 'each', 'its', 'keep', 'becomes', 'nor', 'same', 're', 'them', 'us', '’m', 'formerly', 'done', 'back', 'please', 'enough', 'somehow', 'you', 'four', 'alone', '’re', 'not', 'never', 'own', 'show', 'whatever', 'twelve', 'against', 'seemed', 'between', 'across', 'seems', 'now', 'per', 'indeed', 'without', 'however', 'thereupon', 'many', 'off', 'name', 'have', 'is', 'amount', 'i', 'less', 'seem', 'his', 'sometimes', 'could', 'myself', 'throughout', 'all', 'it', 'get', 'nobody', 'nevertheless', 'whither', '’ve', 'would', \"'re\", 'might', 'therefore', 'serious', 'just', 'whoever', 'then', 'using', 'me', 'mostly', 'which', 'see', 'fifty', 'either', 'thence', 'out', 'perhaps', 'several', 'thru', 'really', 'eight', 'bottom', 'be', 'hereafter', 'due', 'behind', 'few', 'well', '‘d', '‘s', 'three', 'although', 'there', '‘ve', 'am', 'those', 'we', 'various', 'hence'}\n"
     ]
    }
   ],
   "source": [
    "print(nlp.Defaults.stop_words)"
   ]
  },
  {
   "cell_type": "code",
   "execution_count": 5,
   "id": "374db040",
   "metadata": {
    "execution": {
     "iopub.execute_input": "2024-11-18T17:41:38.387442Z",
     "iopub.status.busy": "2024-11-18T17:41:38.387066Z",
     "iopub.status.idle": "2024-11-18T17:41:38.393270Z",
     "shell.execute_reply": "2024-11-18T17:41:38.392257Z"
    },
    "papermill": {
     "duration": 0.015272,
     "end_time": "2024-11-18T17:41:38.395395",
     "exception": false,
     "start_time": "2024-11-18T17:41:38.380123",
     "status": "completed"
    },
    "tags": []
   },
   "outputs": [
    {
     "data": {
      "text/plain": [
       "True"
      ]
     },
     "execution_count": 5,
     "metadata": {},
     "output_type": "execute_result"
    }
   ],
   "source": [
    "nlp.vocab['myself'].is_stop\n"
   ]
  },
  {
   "cell_type": "code",
   "execution_count": 6,
   "id": "dc3f4084",
   "metadata": {
    "execution": {
     "iopub.execute_input": "2024-11-18T17:41:38.409120Z",
     "iopub.status.busy": "2024-11-18T17:41:38.408710Z",
     "iopub.status.idle": "2024-11-18T17:41:38.415277Z",
     "shell.execute_reply": "2024-11-18T17:41:38.414109Z"
    },
    "papermill": {
     "duration": 0.015882,
     "end_time": "2024-11-18T17:41:38.417369",
     "exception": false,
     "start_time": "2024-11-18T17:41:38.401487",
     "status": "completed"
    },
    "tags": []
   },
   "outputs": [
    {
     "data": {
      "text/plain": [
       "False"
      ]
     },
     "execution_count": 6,
     "metadata": {},
     "output_type": "execute_result"
    }
   ],
   "source": [
    "nlp.vocab['btw'].is_stop"
   ]
  },
  {
   "cell_type": "code",
   "execution_count": 7,
   "id": "d2db0d58",
   "metadata": {
    "execution": {
     "iopub.execute_input": "2024-11-18T17:41:38.431734Z",
     "iopub.status.busy": "2024-11-18T17:41:38.430881Z",
     "iopub.status.idle": "2024-11-18T17:41:38.436157Z",
     "shell.execute_reply": "2024-11-18T17:41:38.435098Z"
    },
    "papermill": {
     "duration": 0.014789,
     "end_time": "2024-11-18T17:41:38.438441",
     "exception": false,
     "start_time": "2024-11-18T17:41:38.423652",
     "status": "completed"
    },
    "tags": []
   },
   "outputs": [],
   "source": [
    "nlp.Defaults.stop_words.add('btw')\n",
    "nlp.vocab['btw'].is_stop = True"
   ]
  },
  {
   "cell_type": "code",
   "execution_count": 8,
   "id": "529bce35",
   "metadata": {
    "execution": {
     "iopub.execute_input": "2024-11-18T17:41:38.452162Z",
     "iopub.status.busy": "2024-11-18T17:41:38.451765Z",
     "iopub.status.idle": "2024-11-18T17:41:38.458573Z",
     "shell.execute_reply": "2024-11-18T17:41:38.457611Z"
    },
    "papermill": {
     "duration": 0.016165,
     "end_time": "2024-11-18T17:41:38.460698",
     "exception": false,
     "start_time": "2024-11-18T17:41:38.444533",
     "status": "completed"
    },
    "tags": []
   },
   "outputs": [
    {
     "data": {
      "text/plain": [
       "True"
      ]
     },
     "execution_count": 8,
     "metadata": {},
     "output_type": "execute_result"
    }
   ],
   "source": [
    "nlp.vocab['btw'].is_stop"
   ]
  },
  {
   "cell_type": "code",
   "execution_count": 9,
   "id": "a01d3b7a",
   "metadata": {
    "execution": {
     "iopub.execute_input": "2024-11-18T17:41:38.475403Z",
     "iopub.status.busy": "2024-11-18T17:41:38.474643Z",
     "iopub.status.idle": "2024-11-18T17:41:38.481030Z",
     "shell.execute_reply": "2024-11-18T17:41:38.480072Z"
    },
    "papermill": {
     "duration": 0.015914,
     "end_time": "2024-11-18T17:41:38.482967",
     "exception": false,
     "start_time": "2024-11-18T17:41:38.467053",
     "status": "completed"
    },
    "tags": []
   },
   "outputs": [
    {
     "data": {
      "text/plain": [
       "True"
      ]
     },
     "execution_count": 9,
     "metadata": {},
     "output_type": "execute_result"
    }
   ],
   "source": [
    "nlp.vocab['beyond'].is_stop"
   ]
  },
  {
   "cell_type": "code",
   "execution_count": 10,
   "id": "327a4adb",
   "metadata": {
    "execution": {
     "iopub.execute_input": "2024-11-18T17:41:38.497413Z",
     "iopub.status.busy": "2024-11-18T17:41:38.497030Z",
     "iopub.status.idle": "2024-11-18T17:41:38.501992Z",
     "shell.execute_reply": "2024-11-18T17:41:38.500908Z"
    },
    "papermill": {
     "duration": 0.014612,
     "end_time": "2024-11-18T17:41:38.504074",
     "exception": false,
     "start_time": "2024-11-18T17:41:38.489462",
     "status": "completed"
    },
    "tags": []
   },
   "outputs": [],
   "source": [
    "nlp.Defaults.stop_words.remove('beyond')\n",
    "nlp.vocab['beyond'].is_stop = False"
   ]
  },
  {
   "cell_type": "code",
   "execution_count": 11,
   "id": "f9738eac",
   "metadata": {
    "execution": {
     "iopub.execute_input": "2024-11-18T17:41:38.519146Z",
     "iopub.status.busy": "2024-11-18T17:41:38.518031Z",
     "iopub.status.idle": "2024-11-18T17:41:38.524857Z",
     "shell.execute_reply": "2024-11-18T17:41:38.523717Z"
    },
    "papermill": {
     "duration": 0.016427,
     "end_time": "2024-11-18T17:41:38.526961",
     "exception": false,
     "start_time": "2024-11-18T17:41:38.510534",
     "status": "completed"
    },
    "tags": []
   },
   "outputs": [
    {
     "data": {
      "text/plain": [
       "False"
      ]
     },
     "execution_count": 11,
     "metadata": {},
     "output_type": "execute_result"
    }
   ],
   "source": [
    "nlp.vocab['beyond'].is_stop"
   ]
  },
  {
   "cell_type": "code",
   "execution_count": 12,
   "id": "98df84f4",
   "metadata": {
    "execution": {
     "iopub.execute_input": "2024-11-18T17:41:38.542142Z",
     "iopub.status.busy": "2024-11-18T17:41:38.541153Z",
     "iopub.status.idle": "2024-11-18T17:41:38.545976Z",
     "shell.execute_reply": "2024-11-18T17:41:38.545032Z"
    },
    "papermill": {
     "duration": 0.014487,
     "end_time": "2024-11-18T17:41:38.548023",
     "exception": false,
     "start_time": "2024-11-18T17:41:38.533536",
     "status": "completed"
    },
    "tags": []
   },
   "outputs": [],
   "source": [
    "my_sw = ['i','he','she','it','my','your','his','him','her']"
   ]
  },
  {
   "cell_type": "code",
   "execution_count": 13,
   "id": "10c37476",
   "metadata": {
    "execution": {
     "iopub.execute_input": "2024-11-18T17:41:38.563006Z",
     "iopub.status.busy": "2024-11-18T17:41:38.562106Z",
     "iopub.status.idle": "2024-11-18T17:41:38.569213Z",
     "shell.execute_reply": "2024-11-18T17:41:38.568217Z"
    },
    "papermill": {
     "duration": 0.017608,
     "end_time": "2024-11-18T17:41:38.572135",
     "exception": false,
     "start_time": "2024-11-18T17:41:38.554527",
     "status": "completed"
    },
    "tags": []
   },
   "outputs": [
    {
     "name": "stdout",
     "output_type": "stream",
     "text": [
      "[nltk_data] Downloading package stopwords to /usr/share/nltk_data...\n",
      "[nltk_data]   Package stopwords is already up-to-date!\n"
     ]
    },
    {
     "data": {
      "text/plain": [
       "True"
      ]
     },
     "execution_count": 13,
     "metadata": {},
     "output_type": "execute_result"
    }
   ],
   "source": [
    "import nltk\n",
    "nltk.download('stopwords')"
   ]
  },
  {
   "cell_type": "code",
   "execution_count": 14,
   "id": "76b0d3fc",
   "metadata": {
    "execution": {
     "iopub.execute_input": "2024-11-18T17:41:38.587181Z",
     "iopub.status.busy": "2024-11-18T17:41:38.586277Z",
     "iopub.status.idle": "2024-11-18T17:41:38.596620Z",
     "shell.execute_reply": "2024-11-18T17:41:38.595555Z"
    },
    "papermill": {
     "duration": 0.02013,
     "end_time": "2024-11-18T17:41:38.598816",
     "exception": false,
     "start_time": "2024-11-18T17:41:38.578686",
     "status": "completed"
    },
    "tags": []
   },
   "outputs": [
    {
     "name": "stdout",
     "output_type": "stream",
     "text": [
      "179\n"
     ]
    },
    {
     "data": {
      "text/plain": [
       "{'a',\n",
       " 'about',\n",
       " 'above',\n",
       " 'after',\n",
       " 'again',\n",
       " 'against',\n",
       " 'ain',\n",
       " 'all',\n",
       " 'am',\n",
       " 'an',\n",
       " 'and',\n",
       " 'any',\n",
       " 'are',\n",
       " 'aren',\n",
       " \"aren't\",\n",
       " 'as',\n",
       " 'at',\n",
       " 'be',\n",
       " 'because',\n",
       " 'been',\n",
       " 'before',\n",
       " 'being',\n",
       " 'below',\n",
       " 'between',\n",
       " 'both',\n",
       " 'but',\n",
       " 'by',\n",
       " 'can',\n",
       " 'couldn',\n",
       " \"couldn't\",\n",
       " 'd',\n",
       " 'did',\n",
       " 'didn',\n",
       " \"didn't\",\n",
       " 'do',\n",
       " 'does',\n",
       " 'doesn',\n",
       " \"doesn't\",\n",
       " 'doing',\n",
       " 'don',\n",
       " \"don't\",\n",
       " 'down',\n",
       " 'during',\n",
       " 'each',\n",
       " 'few',\n",
       " 'for',\n",
       " 'from',\n",
       " 'further',\n",
       " 'had',\n",
       " 'hadn',\n",
       " \"hadn't\",\n",
       " 'has',\n",
       " 'hasn',\n",
       " \"hasn't\",\n",
       " 'have',\n",
       " 'haven',\n",
       " \"haven't\",\n",
       " 'having',\n",
       " 'he',\n",
       " 'her',\n",
       " 'here',\n",
       " 'hers',\n",
       " 'herself',\n",
       " 'him',\n",
       " 'himself',\n",
       " 'his',\n",
       " 'how',\n",
       " 'i',\n",
       " 'if',\n",
       " 'in',\n",
       " 'into',\n",
       " 'is',\n",
       " 'isn',\n",
       " \"isn't\",\n",
       " 'it',\n",
       " \"it's\",\n",
       " 'its',\n",
       " 'itself',\n",
       " 'just',\n",
       " 'll',\n",
       " 'm',\n",
       " 'ma',\n",
       " 'me',\n",
       " 'mightn',\n",
       " \"mightn't\",\n",
       " 'more',\n",
       " 'most',\n",
       " 'mustn',\n",
       " \"mustn't\",\n",
       " 'my',\n",
       " 'myself',\n",
       " 'needn',\n",
       " \"needn't\",\n",
       " 'no',\n",
       " 'nor',\n",
       " 'not',\n",
       " 'now',\n",
       " 'o',\n",
       " 'of',\n",
       " 'off',\n",
       " 'on',\n",
       " 'once',\n",
       " 'only',\n",
       " 'or',\n",
       " 'other',\n",
       " 'our',\n",
       " 'ours',\n",
       " 'ourselves',\n",
       " 'out',\n",
       " 'over',\n",
       " 'own',\n",
       " 're',\n",
       " 's',\n",
       " 'same',\n",
       " 'shan',\n",
       " \"shan't\",\n",
       " 'she',\n",
       " \"she's\",\n",
       " 'should',\n",
       " \"should've\",\n",
       " 'shouldn',\n",
       " \"shouldn't\",\n",
       " 'so',\n",
       " 'some',\n",
       " 'such',\n",
       " 't',\n",
       " 'than',\n",
       " 'that',\n",
       " \"that'll\",\n",
       " 'the',\n",
       " 'their',\n",
       " 'theirs',\n",
       " 'them',\n",
       " 'themselves',\n",
       " 'then',\n",
       " 'there',\n",
       " 'these',\n",
       " 'they',\n",
       " 'this',\n",
       " 'those',\n",
       " 'through',\n",
       " 'to',\n",
       " 'too',\n",
       " 'under',\n",
       " 'until',\n",
       " 'up',\n",
       " 've',\n",
       " 'very',\n",
       " 'was',\n",
       " 'wasn',\n",
       " \"wasn't\",\n",
       " 'we',\n",
       " 'were',\n",
       " 'weren',\n",
       " \"weren't\",\n",
       " 'what',\n",
       " 'when',\n",
       " 'where',\n",
       " 'which',\n",
       " 'while',\n",
       " 'who',\n",
       " 'whom',\n",
       " 'why',\n",
       " 'will',\n",
       " 'with',\n",
       " 'won',\n",
       " \"won't\",\n",
       " 'wouldn',\n",
       " \"wouldn't\",\n",
       " 'y',\n",
       " 'you',\n",
       " \"you'd\",\n",
       " \"you'll\",\n",
       " \"you're\",\n",
       " \"you've\",\n",
       " 'your',\n",
       " 'yours',\n",
       " 'yourself',\n",
       " 'yourselves'}"
      ]
     },
     "execution_count": 14,
     "metadata": {},
     "output_type": "execute_result"
    }
   ],
   "source": [
    "from nltk.corpus import stopwords\n",
    "from nltk.tokenize import word_tokenize\n",
    "\n",
    "stop_words = set(stopwords.words('english'))\n",
    "print(len(stop_words))\n",
    "stop_words"
   ]
  },
  {
   "cell_type": "code",
   "execution_count": 15,
   "id": "c2c2c0d6",
   "metadata": {
    "execution": {
     "iopub.execute_input": "2024-11-18T17:41:38.614524Z",
     "iopub.status.busy": "2024-11-18T17:41:38.614128Z",
     "iopub.status.idle": "2024-11-18T17:41:38.630396Z",
     "shell.execute_reply": "2024-11-18T17:41:38.629377Z"
    },
    "papermill": {
     "duration": 0.026799,
     "end_time": "2024-11-18T17:41:38.632584",
     "exception": false,
     "start_time": "2024-11-18T17:41:38.605785",
     "status": "completed"
    },
    "tags": []
   },
   "outputs": [
    {
     "data": {
      "text/plain": [
       "['This',\n",
       " 'is',\n",
       " 'a',\n",
       " 'sample',\n",
       " 'sentence',\n",
       " ',',\n",
       " 'And',\n",
       " 'This',\n",
       " 'showing',\n",
       " 'off',\n",
       " 'the',\n",
       " 'stop',\n",
       " 'words',\n",
       " 'filtration',\n",
       " '.']"
      ]
     },
     "execution_count": 15,
     "metadata": {},
     "output_type": "execute_result"
    }
   ],
   "source": [
    "example_sent = \"This is a sample sentence, And This showing off the stop words filtration.\"\n",
    "stop_words = set(stopwords.words('english'))\n",
    "\n",
    "word_tokens = word_tokenize(example_sent)\n",
    "word_tokens"
   ]
  },
  {
   "cell_type": "code",
   "execution_count": 16,
   "id": "ef9ec1d2",
   "metadata": {
    "execution": {
     "iopub.execute_input": "2024-11-18T17:41:38.648551Z",
     "iopub.status.busy": "2024-11-18T17:41:38.647980Z",
     "iopub.status.idle": "2024-11-18T17:41:38.654043Z",
     "shell.execute_reply": "2024-11-18T17:41:38.652793Z"
    },
    "papermill": {
     "duration": 0.016362,
     "end_time": "2024-11-18T17:41:38.656088",
     "exception": false,
     "start_time": "2024-11-18T17:41:38.639726",
     "status": "completed"
    },
    "tags": []
   },
   "outputs": [
    {
     "name": "stdout",
     "output_type": "stream",
     "text": [
      "['This', 'is', 'a', 'sample', 'sentence', ',', 'And', 'This', 'showing', 'off', 'the', 'stop', 'words', 'filtration', '.']\n",
      "---------------------------------\n",
      "['This', 'sample', 'sentence', ',', 'And', 'This', 'showing', 'stop', 'words', 'filtration', '.']\n"
     ]
    }
   ],
   "source": [
    "filtered_sentence = [w for w in word_tokens if not w in stop_words]\n",
    "\n",
    "print(word_tokens)\n",
    "print('---------------------------------')\n",
    "print(filtered_sentence)"
   ]
  },
  {
   "cell_type": "code",
   "execution_count": 17,
   "id": "22cdf85b",
   "metadata": {
    "execution": {
     "iopub.execute_input": "2024-11-18T17:41:38.671669Z",
     "iopub.status.busy": "2024-11-18T17:41:38.671261Z",
     "iopub.status.idle": "2024-11-18T17:41:38.677042Z",
     "shell.execute_reply": "2024-11-18T17:41:38.675881Z"
    },
    "papermill": {
     "duration": 0.016377,
     "end_time": "2024-11-18T17:41:38.679534",
     "exception": false,
     "start_time": "2024-11-18T17:41:38.663157",
     "status": "completed"
    },
    "tags": []
   },
   "outputs": [
    {
     "name": "stdout",
     "output_type": "stream",
     "text": [
      "['This', 'is', 'a', 'sample', 'sentence', ',', 'And', 'This', 'showing', 'off', 'the', 'stop', 'words', 'filtration', '.']\n",
      "---------------------------------\n",
      "['sample', 'sentence', ',', 'showing', 'stop', 'words', 'filtration', '.']\n"
     ]
    }
   ],
   "source": [
    "filtered_sentence = [w for w in word_tokens if not w.lower() in stop_words]\n",
    "\n",
    "print(word_tokens)\n",
    "print('---------------------------------')\n",
    "print(filtered_sentence)"
   ]
  },
  {
   "cell_type": "code",
   "execution_count": 18,
   "id": "71afef1f",
   "metadata": {
    "execution": {
     "iopub.execute_input": "2024-11-18T17:41:38.695930Z",
     "iopub.status.busy": "2024-11-18T17:41:38.695209Z",
     "iopub.status.idle": "2024-11-18T17:41:38.704240Z",
     "shell.execute_reply": "2024-11-18T17:41:38.703197Z"
    },
    "papermill": {
     "duration": 0.01969,
     "end_time": "2024-11-18T17:41:38.706491",
     "exception": false,
     "start_time": "2024-11-18T17:41:38.686801",
     "status": "completed"
    },
    "tags": []
   },
   "outputs": [
    {
     "name": "stdout",
     "output_type": "stream",
     "text": [
      "701\n"
     ]
    },
    {
     "data": {
      "text/plain": [
       "'ابتدأ | ت | يفعلون | فلس | ثلاثاء | بات | أولاء | ثمّة | سقى | إلى | أقل | حتى | هؤلاء | كى | إذا | أكتوبر | فلا | تفعلون | فيما | رابع | كاف | مافتئ | ثلاثة | ه | سحقا | ذه | أيا | ما برح | هاهنا | كأيّن | وجد | بئس | آي | ز | مكانكم | ستمئة | أربعمئة | نون | حَذارِ | منذ | أخبر | ذهب | رويدك | وإن | حيثما | أنتِ | متى | ولكن | وما | فاء | خال | بمن | هن | منه | و | زود | ها | اللذان | لستن | ذال | لكما | ولا | بَلْهَ | إزاء | أبريل | قام | لاسيما | والذي | ذينك | من | أعطى | ارتدّ | أجمع | كلتا | إليكما | كأنّ | لولا | خلا | أربعة | خميس | تسعة | آنفا | تخذ | كانون | بي | ثمانين | عوض | كلّما | عشر | قطّ | خمس | ك | إياها | إياكما | ماي | إي | إن | إليكم | هناك | هلّا | واحد | عليه | س | كأنما | إياهما | أم | دواليك | مئتان | غالبا | أف | ذين | إليكن | إنما | لعل | ته | نَّ | مه | إليكَ | لا سيما | ى | عجبا | قاف | هيهات | نيسان | ريث | جنيه | ثمَّ | بعض | أمامكَ | أن | ح | هذين | ذي | بَسْ | لست | ذوا | له | هل | ألف | صبرا | تلك | مازال | أبو | ستون | حادي | أين | عين | هَذانِ | أفعل به | ذو | أطعم | ممن | منها | زاي | رُبَّ | أنا | ماذا | أيها | تجاه | ن | نا | ليسا | يوان | تسعمئة | أفريل | هاكَ | فوق | وا | أوشك | حيث | ورد | اللذين | معاذ | غير | أربع | حار | أهلا | نيف | ف | أما | تينك | كلاهما | أمام | طَق | ليت | كان | أسكن | اللاتي | مليم | جيم | لا | ذا | لوما | لكن | قد | شين | ضاد | طاء | سبعمئة | علم | تِي | لن | حبذا | آض | كيت | هو | تانِ | صاد | صبر | شمال | كل | تعلَّم | عاد | أيضا | هلم | مئة | آهٍ | ث | خمسين | جانفي | آذار | سبعين | عدا | أنت | ثم | في | ذواتي | تاسع | ثمانمئة | كن | كلا | كثيرا | الذين | دون | كيف | فمن | لسن | تعسا | طاق | سرعان | جعل | إمّا | ما | آهاً | ط | شتان | ثالث | اللائي | أ | تاء | علًّ | أبٌ | ق | سنتيم | كليهما | ر | حسب | بيد | اثنا | صراحة | زعم | ءَ | إياهم | اثنين | صهٍ | ج | ألفى | ذات | هكذا | حدَث | نحن | صدقا | ست | مارس | هَذِه | فإن | جويلية | ص | والذين | أمّا | أنتن | صهْ | اثني | طفق | عند | الذي | كِخ | وُشْكَانَ | طالما | أكثر | أينما | تانِك | أمامك | طرا | أولالك | مذ | عشرة | لدى | أولئك | ما أفعله | عليك | كأن | ما انفك | الآن | درهم | هاته | لكي | صار | ذ | ليس | عشرون | أنبأ | ض | بهما | حرى | نحو | أصبح | بل | ثامن | وهب | ميم | لها | ثاء | مكانكنّ | حقا | خمسمائة | هيّا | مع | أول | دولار | سبت | نَخْ | ذواتا | أيلول | آ | ثلاثون | ب | راء | شرع | دينار | ترك | ثمانية | حمدا | بماذا | خاصة | خلف | فإذا | إحدى | علق | لات | بك | بلى | بسّ | ساء | ل | اربعين | غداة | ذيت | وهو | ثمانون | أحد | بطآن | اللواتي | هَاتِه | انبرى | كسا | سبعمائة | تين | فيم | حزيران | شتانَ | وإذا | ثمة | جمعة | بما | سبحان | اتخذ | تشرين | رجع | فلان | أجل | ستين | عيانا | جير | أفٍّ | تفعلين | أمس | مائة | آه | أخو | ظاء | إى | استحال | حيَّ | سوف | أبدا | انقلب | إلا | لم | أخذ | سبعة | أي | إذ | لكنَّ | فيه | فرادى | ء | لستما | جميع | ولو | شبه | ع | كيفما | تسع | بهن | لك | سبع | شباط | مما | لكم | مثل | أنًّ | عل | هاء | اثنان | د | خامس | تِه | إليكنّ | إياك | راح | بكن | حين | نوفمبر | اخلولق | هي | دال | يوليو | إياكم | اللتيا | هاك | تسعون | بؤسا | لنا | ظ | هَاتانِ | قلما | مرّة | كأين | عامة | حاشا | تسعين | يونيو | خاء | أرى | إليك | أخٌ | حاء | إنَّ | سمعا | وإذ | سابع | ومن | هللة | آهِ | إما | مساء | همزة | الألاء | فبراير | على | إنا | بكما | عدَّ | ي | ين | عشرين | تارة | مادام | آب | ذلكما | هاتي | تفعلان | ذَيْنِ | ظلّ | هما | يفعلان | ش | أربعاء | هَذِي | ديسمبر | كأي | أوّهْ | سوى | خبَّر | مكانكما | ذلك | شيكل | فيفري | ثلاثمائة | صباح | كذلك | أغسطس | غين | لمّا | اللتين | فضلا | حجا | به | هذا | مايو | عاشر | أوه | سادس | أربعمائة | عما | ريال | واو | لستم | كاد | بها | بعدا | ثلاثين | بخ | كي | فيها | آمينَ | قرش | ؤ | ذانِ | ة | ستمائة | ثان | هَؤلاء | هبّ | حمو | ذِي | بغتة | إياهن | بس | خمسون | هيا | يا | هَاتَيْنِ | ظنَّ | هنا | قبل | بخٍ | درى | إذاً | غ | جلل | ثلاثمئة | أنشأ | إيه | أعلم | أنّى | ذانك | عَدَسْ | رأى | يمين | أنى | تلكما | أل | ا | ستة | ثاني | أيّ | إيانا | لكيلا | لسنا | هَيْهات | خ | بعد | تسعمائة | كليكما | كما | إنه | ثمنمئة | لهن | إياي | لعمر | أقبل | عسى | أمسى | إيهٍ | الألى | لما | تحت | ثماني | هَذَيْنِ | لدن | ألا | تلكم | أيار | اللتان | ثلاث | أضحى | كلما | كم | ذاك | إذن | هاتين | سرا | ذِه | كرب | أوت | ثمّ | لو | التي | خمسة | ثمان | لكنما | ئ | هَذا | شَتَّانَ | وَيْ | أيّان | ياء | لام | تي | إذما | تَيْنِ | وراءَك | ليستا | م | آناء | أمد | آها | هذي | أنتما | هيت | لبيك | نبَّا | تحوّل | عن | دونك | سين | لي | حمٌ | كلَّا | بين | هذه | يناير | غادر | لهم | لئن | قاطبة | جوان | سبتمبر | كأيّ | نعم | نفس | كذا | تبدّل | واهاً | حبيب | ذان | غدا | بكم | هم | تموز | بضع | تلقاء | لهما | إياكن | سبعون | أو | مكانَك | خلافا | باء | لعلَّ | ذلكم | هَجْ | ذلكن | بنا | إياه | ضحوة | إلَيْكَ | إلّا | هَاتِي | يورو | حاي | بهم | اربعون | هنالك | هذان | مهما | رزق | أُفٍّ | ليرة | فو | ّأيّان | هلا | أنتم | هاتان | ليسوا | أصلا | أى | خمسمئة | ليست'"
      ]
     },
     "execution_count": 18,
     "metadata": {},
     "output_type": "execute_result"
    }
   ],
   "source": [
    "Ar_SW1 = set(nltk.corpus.stopwords.words(\"arabic\"))\n",
    "print(len(Ar_SW1))\n",
    "' | '.join(Ar_SW1)"
   ]
  },
  {
   "cell_type": "code",
   "execution_count": 19,
   "id": "b3b7bf1f",
   "metadata": {
    "execution": {
     "iopub.execute_input": "2024-11-18T17:41:38.723333Z",
     "iopub.status.busy": "2024-11-18T17:41:38.722202Z",
     "iopub.status.idle": "2024-11-18T17:41:38.731143Z",
     "shell.execute_reply": "2024-11-18T17:41:38.730168Z"
    },
    "papermill": {
     "duration": 0.019603,
     "end_time": "2024-11-18T17:41:38.733324",
     "exception": false,
     "start_time": "2024-11-18T17:41:38.713721",
     "status": "completed"
    },
    "tags": []
   },
   "outputs": [
    {
     "name": "stdout",
     "output_type": "stream",
     "text": [
      "754\n"
     ]
    },
    {
     "data": {
      "text/plain": [
       "'إذ | إذا | إذما | إذن | أف | أقل | أكثر | ألا | إلا | التي | الذي | الذين | اللاتي | اللائي | اللتان | اللتيا | اللتين | اللذان | اللذين | اللواتي | إلى | إليك | إليكم | إليكما | إليكن | أم | أما | أما | إما | أن | إن | إنا | أنا | أنت | أنتم | أنتما | أنتن | إنما | إنه | أنى | أنى | آه | آها | أو | أولاء | أولئك | أوه | آي | أي | أيها | إي | أين | أين | أينما | إيه | بخ | بس | بعد | بعض | بك | بكم | بكم | بكما | بكن | بل | بلى | بما | بماذا | بمن | بنا | به | بها | بهم | بهما | بهن | بي | بين | بيد | تلك | تلكم | تلكما | ته | تي | تين | تينك | ثم | ثمة | حاشا | حبذا | حتى | حيث | حيثما | حين | خلا | دون | ذا | ذات | ذاك | ذان | ذانك | ذلك | ذلكم | ذلكما | ذلكن | ذه | ذو | ذوا | ذواتا | ذواتي | ذي | ذين | ذينك | ريث | سوف | سوى | شتان | عدا | عسى | عل | على | عليك | عليه | عما | عن | عند | غير | فإذا | فإن | فلا | فمن | في | فيم | فيما | فيه | فيها | قد | كأن | كأنما | كأي | كأين | كذا | كذلك | كل | كلا | كلاهما | كلتا | كلما | كليكما | كليهما | كم | كم | كما | كي | كيت | كيف | كيفما | لا | لاسيما | لدى | لست | لستم | لستما | لستن | لسن | لسنا | لعل | لك | لكم | لكما | لكن | لكنما | لكي | لكيلا | لم | لما | لن | لنا | له | لها | لهم | لهما | لهن | لو | لولا | لوما | لي | لئن | ليت | ليس | ليسا | ليست | ليستا | ليسوا | ما | ماذا | متى | مذ | مع | مما | ممن | من | منه | منها | منذ | مه | مهما | نحن | نحو | نعم | ها | هاتان | هاته | هاتي | هاتين | هاك | هاهنا | هذا | هذان | هذه | هذي | هذين | هكذا | هل | هلا | هم | هما | هن | هنا | هناك | هنالك | هو | هؤلاء | هي | هيا | هيت | هيهات | والذي | والذين | وإذ | وإذا | وإن | ولا | ولكن | ولو | وما | ومن | وهو | يا | أبٌ | أخٌ | حمٌ | فو | أنتِ | يناير | فبراير | مارس | أبريل | مايو | يونيو | يوليو | أغسطس | سبتمبر | أكتوبر | نوفمبر | ديسمبر | جانفي | فيفري | مارس | أفريل | ماي | جوان | جويلية | أوت | كانون | شباط | آذار | نيسان | أيار | حزيران | تموز | آب | أيلول | تشرين | دولار | دينار | ريال | درهم | ليرة | جنيه | قرش | مليم | فلس | هللة | سنتيم | يورو | ين | يوان | شيكل | واحد | اثنان | ثلاثة | أربعة | خمسة | ستة | سبعة | ثمانية | تسعة | عشرة | أحد | اثنا | اثني | إحدى | ثلاث | أربع | خمس | ست | سبع | ثماني | تسع | عشر | ثمان | سبت | أحد | اثنين | ثلاثاء | أربعاء | خميس | جمعة | أول | ثان | ثاني | ثالث | رابع | خامس | سادس | سابع | ثامن | تاسع | عاشر | حادي | أ | ب | ت | ث | ج | ح | خ | د | ذ | ر | ز | س | ش | ص | ض | ط | ظ | ع | غ | ف | ق | ك | ل | م | ن | ه | و | ي | ء | ى | آ | ؤ | ئ | أ | ة | ألف | باء | تاء | ثاء | جيم | حاء | خاء | دال | ذال | راء | زاي | سين | شين | صاد | ضاد | طاء | ظاء | عين | غين | فاء | قاف | كاف | لام | ميم | نون | هاء | واو | ياء | همزة | ي | نا | ك | كن | ه | إياه | إياها | إياهما | إياهم | إياهن | إياك | إياكما | إياكم | إياك | إياكن | إياي | إيانا | أولالك | تانِ | تانِك | تِه | تِي | تَيْنِ | ثمّ | ثمّة | ذانِ | ذِه | ذِي | ذَيْنِ | هَؤلاء | هَاتانِ | هَاتِه | هَاتِي | هَاتَيْنِ | هَذا | هَذانِ | هَذِه | هَذِي | هَذَيْنِ | الألى | الألاء | أل | أنّى | أيّ | ّأيّان | أنّى | أيّ | ّأيّان | ذيت | كأيّ | كأيّن | بضع | فلان | وا | آمينَ | آهِ | آهٍ | آهاً | أُفٍّ | أُفٍّ | أفٍّ | أمامك | أمامكَ | أوّهْ | إلَيْكَ | إلَيْكَ | إليكَ | إليكنّ | إيهٍ | بخٍ | بسّ | بَسْ | بطآن | بَلْهَ | حاي | حَذارِ | حيَّ | حيَّ | دونك | رويدك | سرعان | شتانَ | شَتَّانَ | صهْ | صهٍ | طاق | طَق | عَدَسْ | كِخ | مكانَك | مكانَك | مكانَك | مكانكم | مكانكما | مكانكنّ | نَخْ | هاكَ | هَجْ | هلم | هيّا | هَيْهات | وا | واهاً | وراءَك | وُشْكَانَ | وَيْ | يفعلان | تفعلان | يفعلون | تفعلون | تفعلين | اتخذ | ألفى | تخذ | ترك | تعلَّم | جعل | حجا | حبيب | خال | حسب | خال | درى | رأى | زعم | صبر | ظنَّ | عدَّ | علم | غادر | ذهب | وجد | ورد | وهب | أسكن | أطعم | أعطى | رزق | زود | سقى | كسا | أخبر | أرى | أعلم | أنبأ | حدَث | خبَّر | نبَّا | أفعل به | ما أفعله | بئس | ساء | طالما | قلما | لات | لكنَّ | ءَ | أجل | إذاً | أمّا | إمّا | إنَّ | أنًّ | أى | إى | أيا | ب | ثمَّ | جلل | جير | رُبَّ | س | علًّ | ف | كأنّ | كلَّا | كى | ل | لات | لعلَّ | لكنَّ | لكنَّ | م | نَّ | هلّا | وا | أل | إلّا | ت | ك | لمّا | ن | ه | و | ا | ي | تجاه | تلقاء | جميع | حسب | سبحان | شبه | لعمر | مثل | معاذ | أبو | أخو | حمو | فو | مئة | مئتان | ثلاثمئة | أربعمئة | خمسمئة | ستمئة | سبعمئة | ثمنمئة | تسعمئة | مائة | ثلاثمائة | أربعمائة | خمسمائة | ستمائة | سبعمائة | ثمانمئة | تسعمائة | عشرون | ثلاثون | اربعون | خمسون | ستون | سبعون | ثمانون | تسعون | عشرين | ثلاثين | اربعين | خمسين | ستين | سبعين | ثمانين | تسعين | بضع | نيف | أجمع | جميع | عامة | عين | نفس | لا سيما | أصلا | أهلا | أيضا | بؤسا | بعدا | بغتة | تعسا | حقا | حمدا | خلافا | خاصة | دواليك | سحقا | سرا | سمعا | صبرا | صدقا | صراحة | طرا | عجبا | عيانا | غالبا | فرادى | فضلا | قاطبة | كثيرا | لبيك | معاذ | أبدا | إزاء | أصلا | الآن | أمد | أمس | آنفا | آناء | أنّى | أول | أيّان | تارة | ثمّ | ثمّة | حقا | صباح | مساء | ضحوة | عوض | غدا | غداة | قطّ | كلّما | لدن | لمّا | مرّة | قبل | خلف | أمام | فوق | تحت | يمين | شمال | ارتدّ | استحال | أصبح | أضحى | آض | أمسى | انقلب | بات | تبدّل | تحوّل | حار | رجع | راح | صار | ظلّ | عاد | غدا | كان | ما انفك | ما برح | مادام | مازال | مافتئ | ابتدأ | أخذ | اخلولق | أقبل | انبرى | أنشأ | أوشك | جعل | حرى | شرع | طفق | علق | قام | كرب | كاد | هبّ'"
      ]
     },
     "execution_count": 19,
     "metadata": {},
     "output_type": "execute_result"
    }
   ],
   "source": [
    "from nltk.corpus import stopwords\n",
    "Ar_SW2 = stopwords.words('arabic')\n",
    "print(len(Ar_SW2))\n",
    "' | '.join(Ar_SW2)"
   ]
  },
  {
   "cell_type": "code",
   "execution_count": 20,
   "id": "6fb592eb",
   "metadata": {
    "execution": {
     "iopub.execute_input": "2024-11-18T17:41:38.749841Z",
     "iopub.status.busy": "2024-11-18T17:41:38.749457Z",
     "iopub.status.idle": "2024-11-18T17:41:51.364441Z",
     "shell.execute_reply": "2024-11-18T17:41:51.363101Z"
    },
    "papermill": {
     "duration": 12.626187,
     "end_time": "2024-11-18T17:41:51.366971",
     "exception": false,
     "start_time": "2024-11-18T17:41:38.740784",
     "status": "completed"
    },
    "tags": []
   },
   "outputs": [
    {
     "name": "stdout",
     "output_type": "stream",
     "text": [
      "Collecting Arabic-Stopwords\r\n",
      "  Downloading Arabic_Stopwords-0.4.3-py3-none-any.whl.metadata (8.9 kB)\r\n",
      "Requirement already satisfied: pyarabic>=0.6.2 in /opt/conda/lib/python3.10/site-packages (from Arabic-Stopwords) (0.6.15)\r\n",
      "Requirement already satisfied: six>=1.14.0 in /opt/conda/lib/python3.10/site-packages (from pyarabic>=0.6.2->Arabic-Stopwords) (1.16.0)\r\n",
      "Downloading Arabic_Stopwords-0.4.3-py3-none-any.whl (360 kB)\r\n",
      "\u001b[2K   \u001b[90m━━━━━━━━━━━━━━━━━━━━━━━━━━━━━━━━━━━━━━━━\u001b[0m \u001b[32m360.5/360.5 kB\u001b[0m \u001b[31m5.6 MB/s\u001b[0m eta \u001b[36m0:00:00\u001b[0m\r\n",
      "\u001b[?25hInstalling collected packages: Arabic-Stopwords\r\n",
      "Successfully installed Arabic-Stopwords-0.4.3\r\n"
     ]
    }
   ],
   "source": [
    "!pip install Arabic-Stopwords"
   ]
  },
  {
   "cell_type": "code",
   "execution_count": 21,
   "id": "a2f106ed",
   "metadata": {
    "execution": {
     "iopub.execute_input": "2024-11-18T17:41:51.385205Z",
     "iopub.status.busy": "2024-11-18T17:41:51.384370Z",
     "iopub.status.idle": "2024-11-18T17:41:51.646060Z",
     "shell.execute_reply": "2024-11-18T17:41:51.644931Z"
    },
    "papermill": {
     "duration": 0.273361,
     "end_time": "2024-11-18T17:41:51.648491",
     "exception": false,
     "start_time": "2024-11-18T17:41:51.375130",
     "status": "completed"
    },
    "tags": []
   },
   "outputs": [],
   "source": [
    "import arabicstopwords.arabicstopwords as stp\n"
   ]
  },
  {
   "cell_type": "code",
   "execution_count": 22,
   "id": "b0d16c0a",
   "metadata": {
    "execution": {
     "iopub.execute_input": "2024-11-18T17:41:51.665757Z",
     "iopub.status.busy": "2024-11-18T17:41:51.665370Z",
     "iopub.status.idle": "2024-11-18T17:41:51.671629Z",
     "shell.execute_reply": "2024-11-18T17:41:51.670678Z"
    },
    "papermill": {
     "duration": 0.017187,
     "end_time": "2024-11-18T17:41:51.673674",
     "exception": false,
     "start_time": "2024-11-18T17:41:51.656487",
     "status": "completed"
    },
    "tags": []
   },
   "outputs": [
    {
     "data": {
      "text/plain": [
       "dict_keys(['أن', 'إن', 'عل', 'كأن', 'لعل', 'لكن', 'ليت', 'ثنا', 'بيد', 'سوى', 'غير', 'لاسيما', 'أولئك', 'أولئكم', 'أولاء', 'أولالك', 'تان', 'تانك', 'تلك', 'تلكم', 'تلكما', 'ته', 'تي', 'تين', 'تينك', 'ثم', 'ثمة', 'ذا', 'ذاك', 'ذان', 'ذانك', 'ذلك', 'ذلكم', 'ذلكما', 'ذلكن', 'ذه', 'ذوا', 'ذواتا', 'ذواتي', 'ذوو', 'ذوي', 'ذي', 'ذين', 'ذينك', 'كذلك', 'هؤلاء', 'هاتان', 'هاته', 'هاتي', 'هاتين', 'هاهنا', 'هذا', 'هذان', 'هذه', 'هذي', 'هذين', 'هكذا', 'هنا', 'هناك', 'هنالك', 'أي', 'إذ', 'إذا', 'ابن', 'بعض', 'تجاه', 'تلقاء', 'جميع', 'حسب', 'حيث', 'سبحان', 'شبه', 'شطر', 'كل', 'لعمر', 'لما', 'مثل', 'مع', 'معاذ', 'نحو', 'متى', 'أنى', 'أيان', 'أين', 'بكم', 'بما', 'بماذا', 'بمن', 'كم', 'كيف', 'ما', 'ماذا', 'مما', 'ممن', 'من', 'أينما', 'حيثما', 'كيفما', 'مهما', 'أقل', 'أكثر', 'آها', 'بس', 'حاي', 'صه', 'طاق', 'طق', 'عدس', 'كخ', 'نخ', 'هج', 'وا', 'واها', 'وي', 'آمين', 'آه', 'أف', 'أمامك', 'أوه', 'إليك', 'إليكم', 'إليكما', 'إليكن', 'إيه', 'بخ', 'بطآن', 'بله', 'حذار', 'حي', 'دونك', 'رويدك', 'سرعان', 'شتان', 'عليك', 'مكانك', 'مكانكم', 'مكانكما', 'مكانكن', 'مه', 'ها', 'هاؤم', 'هاك', 'هلم', 'هيا', 'هيت', 'هيهات', 'وراءك', 'وشكان', 'ويكأن', 'الألاء', 'الألى', 'التي', 'الذي', 'الذين', 'اللائي', 'اللاتي', 'اللتان', 'اللتيا', 'اللتين', 'اللذان', 'اللذين', 'اللواتي', 'ذات', 'أب', 'أبا', 'أبو', 'أبي', 'أخ', 'أخا', 'أخو', 'أخي', 'حم', 'حما', 'حمو', 'حمي', 'ذو', 'فا', 'فو', 'في', 'لن', 'لو', 'لولا', 'لوما', 'نعم', 'بئس', 'حبذا', 'ساء', 'ساءما', 'نعما', 'لا', 'لات', 'حتى', 'كي', 'أجمع', 'عامة', 'عين', 'كلا', 'كلاهما', 'كلتا', 'كليكما', 'كليهما', 'نفس', 'ء', 'آ', 'أ', 'ؤ', 'ئ', 'ب', 'ة', 'ت', 'ث', 'ج', 'ح', 'خ', 'د', 'ذ', 'ر', 'ز', 'س', 'ش', 'ص', 'ض', 'ط', 'ظ', 'ع', 'غ', 'ف', 'ق', 'ك', 'ل', 'م', 'ن', 'ه', 'و', 'ى', 'ي', 'إلا', 'حاشا', 'خلا', 'عدا', 'فيم', 'فيما', 'هل', 'سوف', 'هلا', 'قد', 'إما', 'كأنما', 'كما', 'لكي', 'لكيلا', 'إلى', 'بلا', 'رب', 'على', 'عن', 'مذ', 'منذ', 'عما', 'لم', 'أجل', 'إذن', 'إي', 'بلى', 'جلل', 'جير', 'إذما', 'لئن', 'أما', 'ألا', 'أم', 'أو', 'بل', 'أيا', 'لئلا', 'بك', 'بكما', 'بكن', 'بنا', 'به', 'بها', 'بي', 'لك', 'لكم', 'لكما', 'لنا', 'له', 'لها', 'لي', 'أنا', 'أنت', 'أنتم', 'أنتما', 'أنتن', 'نحن', 'هم', 'هما', 'هن', 'هو', 'هي', 'إياك', 'إياكم', 'إياكما', 'إياكن', 'إيانا', 'إياه', 'إياها', 'إياهم', 'إياهما', 'إياهن', 'إياي', 'بدون', 'دون', 'ريث', 'عند', 'عندما', 'عوض', 'قبل', 'قط', 'كلما', 'لدن', 'لدى', 'آناء', 'آنفا', 'أبدا', 'أثناء', 'أصلا', 'أمد', 'أمس', 'أول', 'الآن', 'بعد', 'تارة', 'حين', 'زمان', 'ساعة', 'شهر', 'صباح', 'ضحوة', 'غدا', 'غداة', 'غروب', 'لحظة', 'ليل', 'مرة', 'مساء', 'وقت', 'يومئذ', 'خلال', 'أسفل', 'أعلى', 'أمام', 'إزاء', 'بين', 'تحت', 'جنب', 'جنوب', 'حوالى', 'حول', 'خلف', 'شرق', 'شمال', 'ضمن', 'غرب', 'فوق', 'يمين', 'طالما', 'قلما', 'أخذ', 'أقبل', 'أنشأ', 'أوشك', 'ابتدأ', 'اخلولق', 'انبرى', 'جعل', 'حرى', 'شرع', 'طفق', 'عسى', 'علق', 'قام', 'كاد', 'كرب', 'لازالت', 'هب', 'إنما', 'لكنما', 'آض', 'أصبح', 'أضحى', 'أمسى', 'ارتد', 'استحال', 'انقلب', 'بات', 'تبدل', 'تحول', 'حار', 'راح', 'رجع', 'صار', 'ظل', 'عاد', 'كان', 'لست', 'لستم', 'لستما', 'لستن', 'لسن', 'لسنا', 'ليس', 'ليسا', 'ليست', 'ليستا', 'ليسوا', 'ماانفك', 'مابرح', 'مادام', 'مازال', 'مافتئ', 'بضع', 'ذيت', 'فلان', 'كأي', 'كأين', 'كذا', 'كيت', 'فقط', 'بن', 'أيضا', 'بينما', 'جدا', 'حينما', 'مثلما', 'حسبما', 'آنذاك', 'آنئذ', 'أية', 'وراءكما', 'وراءكم', 'وراءكن', 'وراء', 'بعدما', 'بئسما', 'قبلما', 'بعدئذ', 'حينئذ', 'عندئذ', 'إنا', 'هاذين', 'لازال', 'لازلت', 'لازلنا', 'لازلتما', 'لازلتم', 'لازلتن', 'لازالا', 'لازالتا', 'لازالوا', 'لازلن', 'مازلت', 'مازلنا', 'مازلتما', 'مازلتم', 'مازلتن', 'مازالا', 'مازالتا', 'مازالوا', 'مازلن', 'مادمت', 'مادمنا', 'مادمتما', 'مادمتم', 'مادمتن', 'مادامت', 'ماداما', 'مادامتا', 'ماداموا', 'مادمن', 'مابرحت', 'مابرحنا', 'مابرحتما', 'مابرحتم', 'مابرحتن', 'مابرحا', 'مابرحتا', 'مابرحوا', 'مابرحن', 'مافتئت', 'مافتئنا', 'مافتئتما', 'مافتئتم', 'مافتئتن', 'مافتئا', 'مافتئتا', 'مافتئوا', 'مافتئن', 'ماانفككت', 'ماانفككنا', 'ماانفككتما', 'ماانفككتم', 'ماانفككتن', 'ماانفكت', 'ماانفكا', 'ماانفكتا', 'ماانفكوا', 'ماانفككن'])"
      ]
     },
     "execution_count": 22,
     "metadata": {},
     "output_type": "execute_result"
    }
   ],
   "source": [
    "stp.classed_stopwords_list()"
   ]
  },
  {
   "cell_type": "code",
   "execution_count": 23,
   "id": "c63a6737",
   "metadata": {
    "execution": {
     "iopub.execute_input": "2024-11-18T17:41:51.692121Z",
     "iopub.status.busy": "2024-11-18T17:41:51.691219Z",
     "iopub.status.idle": "2024-11-18T17:41:51.698020Z",
     "shell.execute_reply": "2024-11-18T17:41:51.697047Z"
    },
    "papermill": {
     "duration": 0.017698,
     "end_time": "2024-11-18T17:41:51.700053",
     "exception": false,
     "start_time": "2024-11-18T17:41:51.682355",
     "status": "completed"
    },
    "tags": []
   },
   "outputs": [
    {
     "data": {
      "text/plain": [
       "13465"
      ]
     },
     "execution_count": 23,
     "metadata": {},
     "output_type": "execute_result"
    }
   ],
   "source": [
    "len(stp.stopwords_list())"
   ]
  },
  {
   "cell_type": "code",
   "execution_count": 24,
   "id": "a7cb8e56",
   "metadata": {
    "execution": {
     "iopub.execute_input": "2024-11-18T17:41:51.717519Z",
     "iopub.status.busy": "2024-11-18T17:41:51.717044Z",
     "iopub.status.idle": "2024-11-18T17:41:51.734248Z",
     "shell.execute_reply": "2024-11-18T17:41:51.733263Z"
    },
    "papermill": {
     "duration": 0.028719,
     "end_time": "2024-11-18T17:41:51.736763",
     "exception": false,
     "start_time": "2024-11-18T17:41:51.708044",
     "status": "completed"
    },
    "tags": []
   },
   "outputs": [
    {
     "data": {
      "text/plain": [
       "['أن',\n",
       " 'أنك',\n",
       " 'أنكما',\n",
       " 'أنكم',\n",
       " 'أنكن',\n",
       " 'أننا',\n",
       " 'أنها',\n",
       " 'أنه',\n",
       " 'أنهما',\n",
       " 'أنهم',\n",
       " 'أنهن',\n",
       " 'أني',\n",
       " 'بأن',\n",
       " 'بأنك',\n",
       " 'بأنكما',\n",
       " 'بأنكم',\n",
       " 'بأنكن',\n",
       " 'بأننا',\n",
       " 'بأنها',\n",
       " 'بأنه',\n",
       " 'بأنهما',\n",
       " 'بأنهم',\n",
       " 'بأنهن',\n",
       " 'بأني',\n",
       " 'فأن',\n",
       " 'فأنك',\n",
       " 'فأنكما',\n",
       " 'فأنكم',\n",
       " 'فأنكن',\n",
       " 'فأننا',\n",
       " 'فأنها',\n",
       " 'فأنه',\n",
       " 'فأنهما',\n",
       " 'فأنهم',\n",
       " 'فأنهن',\n",
       " 'فأني',\n",
       " 'فبأن',\n",
       " 'فبأنك',\n",
       " 'فبأنكما',\n",
       " 'فبأنكم',\n",
       " 'فبأنكن',\n",
       " 'فبأننا',\n",
       " 'فبأنها',\n",
       " 'فبأنه',\n",
       " 'فبأنهما',\n",
       " 'فبأنهم',\n",
       " 'فبأنهن',\n",
       " 'فبأني',\n",
       " 'فكأن',\n",
       " 'فكأنك',\n",
       " 'فكأنكما',\n",
       " 'فكأنكم',\n",
       " 'فكأنكن',\n",
       " 'فكأننا',\n",
       " 'فكأنها',\n",
       " 'فكأنه',\n",
       " 'فكأنهما',\n",
       " 'فكأنهم',\n",
       " 'فكأنهن',\n",
       " 'فكأني',\n",
       " 'فلأن',\n",
       " 'فلأنك',\n",
       " 'فلأنكما',\n",
       " 'فلأنكم',\n",
       " 'فلأنكن',\n",
       " 'فلأننا',\n",
       " 'فلأنها',\n",
       " 'فلأنه',\n",
       " 'فلأنهما',\n",
       " 'فلأنهم',\n",
       " 'فلأنهن',\n",
       " 'فلأني',\n",
       " 'كأن',\n",
       " 'كأنك',\n",
       " 'كأنكما',\n",
       " 'كأنكم',\n",
       " 'كأنكن',\n",
       " 'كأننا',\n",
       " 'كأنها',\n",
       " 'كأنه',\n",
       " 'كأنهما',\n",
       " 'كأنهم',\n",
       " 'كأنهن',\n",
       " 'كأني',\n",
       " 'لأن',\n",
       " 'لأنك',\n",
       " 'لأنكما',\n",
       " 'لأنكم',\n",
       " 'لأنكن',\n",
       " 'لأننا',\n",
       " 'لأنها',\n",
       " 'لأنه',\n",
       " 'لأنهما',\n",
       " 'لأنهم',\n",
       " 'لأنهن',\n",
       " 'لأني',\n",
       " 'وأن',\n",
       " 'وأنك',\n",
       " 'وأنكما',\n",
       " 'وأنكم',\n",
       " 'وأنكن',\n",
       " 'وأننا',\n",
       " 'وأنها',\n",
       " 'وأنه',\n",
       " 'وأنهما',\n",
       " 'وأنهم',\n",
       " 'وأنهن',\n",
       " 'وأني',\n",
       " 'وبأن',\n",
       " 'وبأنك',\n",
       " 'وبأنكما',\n",
       " 'وبأنكم',\n",
       " 'وبأنكن',\n",
       " 'وبأننا',\n",
       " 'وبأنها',\n",
       " 'وبأنه',\n",
       " 'وبأنهما',\n",
       " 'وبأنهم',\n",
       " 'وبأنهن',\n",
       " 'وبأني',\n",
       " 'وكأن',\n",
       " 'وكأنك',\n",
       " 'وكأنكما',\n",
       " 'وكأنكم',\n",
       " 'وكأنكن',\n",
       " 'وكأننا',\n",
       " 'وكأنها',\n",
       " 'وكأنه',\n",
       " 'وكأنهما',\n",
       " 'وكأنهم',\n",
       " 'وكأنهن',\n",
       " 'وكأني',\n",
       " 'ولأن',\n",
       " 'ولأنك',\n",
       " 'ولأنكما',\n",
       " 'ولأنكم',\n",
       " 'ولأنكن',\n",
       " 'ولأننا',\n",
       " 'ولأنها',\n",
       " 'ولأنه',\n",
       " 'ولأنهما',\n",
       " 'ولأنهم',\n",
       " 'ولأنهن',\n",
       " 'ولأني',\n",
       " 'إن',\n",
       " 'إنك',\n",
       " 'إنكما',\n",
       " 'إنكم',\n",
       " 'إنكن',\n",
       " 'إننا',\n",
       " 'إنها',\n",
       " 'إنه',\n",
       " 'إنهما',\n",
       " 'إنهم',\n",
       " 'إنهن',\n",
       " 'إني',\n",
       " 'أإن',\n",
       " 'أإنك',\n",
       " 'أإنكما',\n",
       " 'أإنكم',\n",
       " 'أإنكن',\n",
       " 'أإننا',\n",
       " 'أإنها',\n",
       " 'أإنه',\n",
       " 'أإنهما',\n",
       " 'أإنهم',\n",
       " 'أإنهن',\n",
       " 'أإني',\n",
       " 'أفإن',\n",
       " 'أفإنك',\n",
       " 'أفإنكما',\n",
       " 'أفإنكم',\n",
       " 'أفإنكن',\n",
       " 'أفإننا',\n",
       " 'أفإنها',\n",
       " 'أفإنه',\n",
       " 'أفإنهما',\n",
       " 'أفإنهم',\n",
       " 'أفإنهن',\n",
       " 'أفإني',\n",
       " 'أفلإن',\n",
       " 'أفلإنك',\n",
       " 'أفلإنكما',\n",
       " 'أفلإنكم',\n",
       " 'أفلإنكن',\n",
       " 'أفلإننا',\n",
       " 'أفلإنها',\n",
       " 'أفلإنه',\n",
       " 'أفلإنهما',\n",
       " 'أفلإنهم',\n",
       " 'أفلإنهن',\n",
       " 'أفلإني',\n",
       " 'ألإن',\n",
       " 'ألإنك',\n",
       " 'ألإنكما',\n",
       " 'ألإنكم',\n",
       " 'ألإنكن',\n",
       " 'ألإننا',\n",
       " 'ألإنها',\n",
       " 'ألإنه',\n",
       " 'ألإنهما',\n",
       " 'ألإنهم',\n",
       " 'ألإنهن',\n",
       " 'ألإني',\n",
       " 'أوإن',\n",
       " 'أوإنك',\n",
       " 'أوإنكما',\n",
       " 'أوإنكم',\n",
       " 'أوإنكن',\n",
       " 'أوإننا',\n",
       " 'أوإنها',\n",
       " 'أوإنه',\n",
       " 'أوإنهما',\n",
       " 'أوإنهم',\n",
       " 'أوإنهن',\n",
       " 'أوإني',\n",
       " 'أولإن',\n",
       " 'أولإنك',\n",
       " 'أولإنكما',\n",
       " 'أولإنكم',\n",
       " 'أولإنكن',\n",
       " 'أولإننا',\n",
       " 'أولإنها',\n",
       " 'أولإنه',\n",
       " 'أولإنهما',\n",
       " 'أولإنهم',\n",
       " 'أولإنهن',\n",
       " 'أولإني',\n",
       " 'فإن',\n",
       " 'فإنك',\n",
       " 'فإنكما',\n",
       " 'فإنكم',\n",
       " 'فإنكن',\n",
       " 'فإننا',\n",
       " 'فإنها',\n",
       " 'فإنه',\n",
       " 'فإنهما',\n",
       " 'فإنهم',\n",
       " 'فإنهن',\n",
       " 'فإني',\n",
       " 'فلإن',\n",
       " 'فلإنك',\n",
       " 'فلإنكما',\n",
       " 'فلإنكم',\n",
       " 'فلإنكن',\n",
       " 'فلإننا',\n",
       " 'فلإنها',\n",
       " 'فلإنه',\n",
       " 'فلإنهما',\n",
       " 'فلإنهم',\n",
       " 'فلإنهن',\n",
       " 'فلإني',\n",
       " 'وإن',\n",
       " 'وإنك',\n",
       " 'وإنكما',\n",
       " 'وإنكم',\n",
       " 'وإنكن',\n",
       " 'وإننا',\n",
       " 'وإنها',\n",
       " 'وإنه',\n",
       " 'وإنهما',\n",
       " 'وإنهم',\n",
       " 'وإنهن',\n",
       " 'وإني',\n",
       " 'ولإن',\n",
       " 'ولإنك',\n",
       " 'ولإنكما',\n",
       " 'ولإنكم',\n",
       " 'ولإنكن',\n",
       " 'ولإننا',\n",
       " 'ولإنها',\n",
       " 'ولإنه',\n",
       " 'ولإنهما',\n",
       " 'ولإنهم',\n",
       " 'ولإنهن',\n",
       " 'ولإني',\n",
       " 'لإن',\n",
       " 'لإنك',\n",
       " 'لإنكما',\n",
       " 'لإنكم',\n",
       " 'لإنكن',\n",
       " 'لإننا',\n",
       " 'لإنها',\n",
       " 'لإنه',\n",
       " 'لإنهما',\n",
       " 'لإنهم',\n",
       " 'لإنهن',\n",
       " 'لإني',\n",
       " 'عل',\n",
       " 'فعل',\n",
       " 'وعل',\n",
       " 'أكأن',\n",
       " 'أكأنك',\n",
       " 'أكأنكما',\n",
       " 'أكأنكم',\n",
       " 'أكأنكن',\n",
       " 'أكأننا',\n",
       " 'أكأنها',\n",
       " 'أكأنه',\n",
       " 'أكأنهما',\n",
       " 'أكأنهم',\n",
       " 'أكأنهن',\n",
       " 'أكأني',\n",
       " 'أفكأن',\n",
       " 'أفكأنك',\n",
       " 'أفكأنكما',\n",
       " 'أفكأنكم',\n",
       " 'أفكأنكن',\n",
       " 'أفكأننا',\n",
       " 'أفكأنها',\n",
       " 'أفكأنه',\n",
       " 'أفكأنهما',\n",
       " 'أفكأنهم',\n",
       " 'أفكأنهن',\n",
       " 'أفكأني',\n",
       " 'أفلكأن',\n",
       " 'أفلكأنك',\n",
       " 'أفلكأنكما',\n",
       " 'أفلكأنكم',\n",
       " 'أفلكأنكن',\n",
       " 'أفلكأننا',\n",
       " 'أفلكأنها',\n",
       " 'أفلكأنه',\n",
       " 'أفلكأنهما',\n",
       " 'أفلكأنهم',\n",
       " 'أفلكأنهن',\n",
       " 'أفلكأني',\n",
       " 'ألكأن',\n",
       " 'ألكأنك',\n",
       " 'ألكأنكما',\n",
       " 'ألكأنكم',\n",
       " 'ألكأنكن',\n",
       " 'ألكأننا',\n",
       " 'ألكأنها',\n",
       " 'ألكأنه',\n",
       " 'ألكأنهما',\n",
       " 'ألكأنهم',\n",
       " 'ألكأنهن',\n",
       " 'ألكأني',\n",
       " 'أوكأن',\n",
       " 'أوكأنك',\n",
       " 'أوكأنكما',\n",
       " 'أوكأنكم',\n",
       " 'أوكأنكن',\n",
       " 'أوكأننا',\n",
       " 'أوكأنها',\n",
       " 'أوكأنه',\n",
       " 'أوكأنهما',\n",
       " 'أوكأنهم',\n",
       " 'أوكأنهن',\n",
       " 'أوكأني',\n",
       " 'أولكأن',\n",
       " 'أولكأنك',\n",
       " 'أولكأنكما',\n",
       " 'أولكأنكم',\n",
       " 'أولكأنكن',\n",
       " 'أولكأننا',\n",
       " 'أولكأنها',\n",
       " 'أولكأنه',\n",
       " 'أولكأنهما',\n",
       " 'أولكأنهم',\n",
       " 'أولكأنهن',\n",
       " 'أولكأني',\n",
       " 'فلكأن',\n",
       " 'فلكأنك',\n",
       " 'فلكأنكما',\n",
       " 'فلكأنكم',\n",
       " 'فلكأنكن',\n",
       " 'فلكأننا',\n",
       " 'فلكأنها',\n",
       " 'فلكأنه',\n",
       " 'فلكأنهما',\n",
       " 'فلكأنهم',\n",
       " 'فلكأنهن',\n",
       " 'فلكأني',\n",
       " 'ولكأن',\n",
       " 'ولكأنك',\n",
       " 'ولكأنكما',\n",
       " 'ولكأنكم',\n",
       " 'ولكأنكن',\n",
       " 'ولكأننا',\n",
       " 'ولكأنها',\n",
       " 'ولكأنه',\n",
       " 'ولكأنهما',\n",
       " 'ولكأنهم',\n",
       " 'ولكأنهن',\n",
       " 'ولكأني',\n",
       " 'لكأن',\n",
       " 'لكأنك',\n",
       " 'لكأنكما',\n",
       " 'لكأنكم',\n",
       " 'لكأنكن',\n",
       " 'لكأننا',\n",
       " 'لكأنها',\n",
       " 'لكأنه',\n",
       " 'لكأنهما',\n",
       " 'لكأنهم',\n",
       " 'لكأنهن',\n",
       " 'لكأني',\n",
       " 'لعل',\n",
       " 'لعلك',\n",
       " 'لعلكما',\n",
       " 'لعلكم',\n",
       " 'لعلكن',\n",
       " 'لعلنا',\n",
       " 'لعلها',\n",
       " 'لعله',\n",
       " 'لعلهما',\n",
       " 'لعلهم',\n",
       " 'لعلهن',\n",
       " 'لعلي',\n",
       " 'ألعل',\n",
       " 'ألعلك',\n",
       " 'ألعلكما',\n",
       " 'ألعلكم',\n",
       " 'ألعلكن',\n",
       " 'ألعلنا',\n",
       " 'ألعلها',\n",
       " 'ألعله',\n",
       " 'ألعلهما',\n",
       " 'ألعلهم',\n",
       " 'ألعلهن',\n",
       " 'ألعلي',\n",
       " 'أفلعل',\n",
       " 'أفلعلك',\n",
       " 'أفلعلكما',\n",
       " 'أفلعلكم',\n",
       " 'أفلعلكن',\n",
       " 'أفلعلنا',\n",
       " 'أفلعلها',\n",
       " 'أفلعله',\n",
       " 'أفلعلهما',\n",
       " 'أفلعلهم',\n",
       " 'أفلعلهن',\n",
       " 'أفلعلي',\n",
       " 'أولعل',\n",
       " 'أولعلك',\n",
       " 'أولعلكما',\n",
       " 'أولعلكم',\n",
       " 'أولعلكن',\n",
       " 'أولعلنا',\n",
       " 'أولعلها',\n",
       " 'أولعله',\n",
       " 'أولعلهما',\n",
       " 'أولعلهم',\n",
       " 'أولعلهن',\n",
       " 'أولعلي',\n",
       " 'فلعل',\n",
       " 'فلعلك',\n",
       " 'فلعلكما',\n",
       " 'فلعلكم',\n",
       " 'فلعلكن',\n",
       " 'فلعلنا',\n",
       " 'فلعلها',\n",
       " 'فلعله',\n",
       " 'فلعلهما',\n",
       " 'فلعلهم',\n",
       " 'فلعلهن',\n",
       " 'فلعلي',\n",
       " 'ولعل',\n",
       " 'ولعلك',\n",
       " 'ولعلكما',\n",
       " 'ولعلكم',\n",
       " 'ولعلكن',\n",
       " 'ولعلنا',\n",
       " 'ولعلها',\n",
       " 'ولعله',\n",
       " 'ولعلهما',\n",
       " 'ولعلهم',\n",
       " 'ولعلهن',\n",
       " 'ولعلي',\n",
       " 'لكن',\n",
       " 'لكنك',\n",
       " 'لكنكما',\n",
       " 'لكنكم',\n",
       " 'لكنكن',\n",
       " 'لكننا',\n",
       " 'لكنها',\n",
       " 'لكنه',\n",
       " 'لكنهما',\n",
       " 'لكنهم',\n",
       " 'لكنهن',\n",
       " 'لكني',\n",
       " 'فلكن',\n",
       " 'فلكنك',\n",
       " 'فلكنكما',\n",
       " 'فلكنكم',\n",
       " 'فلكنكن',\n",
       " 'فلكننا',\n",
       " 'فلكنها',\n",
       " 'فلكنه',\n",
       " 'فلكنهما',\n",
       " 'فلكنهم',\n",
       " 'فلكنهن',\n",
       " 'فلكني',\n",
       " 'ولكن',\n",
       " 'ولكنك',\n",
       " 'ولكنكما',\n",
       " 'ولكنكم',\n",
       " 'ولكنكن',\n",
       " 'ولكننا',\n",
       " 'ولكنها',\n",
       " 'ولكنه',\n",
       " 'ولكنهما',\n",
       " 'ولكنهم',\n",
       " 'ولكنهن',\n",
       " 'ولكني',\n",
       " 'ليت',\n",
       " 'ليتك',\n",
       " 'ليتكما',\n",
       " 'ليتكم',\n",
       " 'ليتكن',\n",
       " 'ليتنا',\n",
       " 'ليتها',\n",
       " 'ليته',\n",
       " 'ليتهما',\n",
       " 'ليتهم',\n",
       " 'ليتهن',\n",
       " 'ليتي',\n",
       " 'فليت',\n",
       " 'فليتك',\n",
       " 'فليتكما',\n",
       " 'فليتكم',\n",
       " 'فليتكن',\n",
       " 'فليتنا',\n",
       " 'فليتها',\n",
       " 'فليته',\n",
       " 'فليتهما',\n",
       " 'فليتهم',\n",
       " 'فليتهن',\n",
       " 'فليتي',\n",
       " 'وليت',\n",
       " 'وليتك',\n",
       " 'وليتكما',\n",
       " 'وليتكم',\n",
       " 'وليتكن',\n",
       " 'وليتنا',\n",
       " 'وليتها',\n",
       " 'وليته',\n",
       " 'وليتهما',\n",
       " 'وليتهم',\n",
       " 'وليتهن',\n",
       " 'وليتي',\n",
       " 'ثنا',\n",
       " 'فثنا',\n",
       " 'وثنا',\n",
       " 'بيد',\n",
       " 'فبيد',\n",
       " 'وبيد',\n",
       " 'سوى',\n",
       " 'فسوى',\n",
       " 'وسوى',\n",
       " 'غير',\n",
       " 'غيرك',\n",
       " 'غيركما',\n",
       " 'غيركم',\n",
       " 'غيركن',\n",
       " 'غيرنا',\n",
       " 'غيرها',\n",
       " 'غيره',\n",
       " 'غيرهما',\n",
       " 'غيرهم',\n",
       " 'غيرهن',\n",
       " 'غيري',\n",
       " 'أكغيره',\n",
       " 'أكغيرهما',\n",
       " 'أكغيرهم',\n",
       " 'أكغيرهن',\n",
       " 'أكغير',\n",
       " 'أكغيرك',\n",
       " 'أكغيركما',\n",
       " 'أكغيركم',\n",
       " 'أكغيركن',\n",
       " 'أكغيرنا',\n",
       " 'أكغيرها',\n",
       " 'أكغيري',\n",
       " 'أغير',\n",
       " 'أغيرك',\n",
       " 'أغيركما',\n",
       " 'أغيركم',\n",
       " 'أغيركن',\n",
       " 'أغيرنا',\n",
       " 'أغيرها',\n",
       " 'أغيره',\n",
       " 'أغيرهما',\n",
       " 'أغيرهم',\n",
       " 'أغيرهن',\n",
       " 'أغيري',\n",
       " 'أبغيره',\n",
       " 'أبغيرهما',\n",
       " 'أبغيرهم',\n",
       " 'أبغيرهن',\n",
       " 'أبغير',\n",
       " 'أبغيرك',\n",
       " 'أبغيركما',\n",
       " 'أبغيركم',\n",
       " 'أبغيركن',\n",
       " 'أبغيرنا',\n",
       " 'أبغيرها',\n",
       " 'أبغيري',\n",
       " 'أفغير',\n",
       " 'أفغيرك',\n",
       " 'أفغيركما',\n",
       " 'أفغيركم',\n",
       " 'أفغيركن',\n",
       " 'أفغيرنا',\n",
       " 'أفغيرها',\n",
       " 'أفغيره',\n",
       " 'أفغيرهما',\n",
       " 'أفغيرهم',\n",
       " 'أفغيرهن',\n",
       " 'أفغيري',\n",
       " 'أفبغيره',\n",
       " 'أفبغيرهما',\n",
       " 'أفبغيرهم',\n",
       " 'أفبغيرهن',\n",
       " 'أفبغير',\n",
       " 'أفبغيرك',\n",
       " 'أفبغيركما',\n",
       " 'أفبغيركم',\n",
       " 'أفبغيركن',\n",
       " 'أفبغيرنا',\n",
       " 'أفبغيرها',\n",
       " 'أفبغيري',\n",
       " 'أفكغيره',\n",
       " 'أفكغيرهما',\n",
       " 'أفكغيرهم',\n",
       " 'أفكغيرهن',\n",
       " 'أفكغير',\n",
       " 'أفكغيرك',\n",
       " 'أفكغيركما',\n",
       " 'أفكغيركم',\n",
       " 'أفكغيركن',\n",
       " 'أفكغيرنا',\n",
       " 'أفكغيرها',\n",
       " 'أفكغيري',\n",
       " 'أفلغير',\n",
       " 'أفلغيرك',\n",
       " 'أفلغيركما',\n",
       " 'أفلغيركم',\n",
       " 'أفلغيركن',\n",
       " 'أفلغيرنا',\n",
       " 'أفلغيرها',\n",
       " 'أفلغيره',\n",
       " 'أفلغيرهما',\n",
       " 'أفلغيرهم',\n",
       " 'أفلغيرهن',\n",
       " 'أفلغيري',\n",
       " 'ألغير',\n",
       " 'ألغيرك',\n",
       " 'ألغيركما',\n",
       " 'ألغيركم',\n",
       " 'ألغيركن',\n",
       " 'ألغيرنا',\n",
       " 'ألغيرها',\n",
       " 'ألغيره',\n",
       " 'ألغيرهما',\n",
       " 'ألغيرهم',\n",
       " 'ألغيرهن',\n",
       " 'ألغيري',\n",
       " 'أوغير',\n",
       " 'أوغيرك',\n",
       " 'أوغيركما',\n",
       " 'أوغيركم',\n",
       " 'أوغيركن',\n",
       " 'أوغيرنا',\n",
       " 'أوغيرها',\n",
       " 'أوغيره',\n",
       " 'أوغيرهما',\n",
       " 'أوغيرهم',\n",
       " 'أوغيرهن',\n",
       " 'أوغيري',\n",
       " 'أوبغيره',\n",
       " 'أوبغيرهما',\n",
       " 'أوبغيرهم',\n",
       " 'أوبغيرهن',\n",
       " 'أوبغير',\n",
       " 'أوبغيرك',\n",
       " 'أوبغيركما',\n",
       " 'أوبغيركم',\n",
       " 'أوبغيركن',\n",
       " 'أوبغيرنا',\n",
       " 'أوبغيرها',\n",
       " 'أوبغيري',\n",
       " 'أوكغيره',\n",
       " 'أوكغيرهما',\n",
       " 'أوكغيرهم',\n",
       " 'أوكغيرهن',\n",
       " 'أوكغير',\n",
       " 'أوكغيرك',\n",
       " 'أوكغيركما',\n",
       " 'أوكغيركم',\n",
       " 'أوكغيركن',\n",
       " 'أوكغيرنا',\n",
       " 'أوكغيرها',\n",
       " 'أوكغيري',\n",
       " 'أولغير',\n",
       " 'أولغيرك',\n",
       " 'أولغيركما',\n",
       " 'أولغيركم',\n",
       " 'أولغيركن',\n",
       " 'أولغيرنا',\n",
       " 'أولغيرها',\n",
       " 'أولغيره',\n",
       " 'أولغيرهما',\n",
       " 'أولغيرهم',\n",
       " 'أولغيرهن',\n",
       " 'أولغيري',\n",
       " 'بغيره',\n",
       " 'بغيرهما',\n",
       " 'بغيرهم',\n",
       " 'بغيرهن',\n",
       " 'بغير',\n",
       " 'بغيرك',\n",
       " 'بغيركما',\n",
       " 'بغيركم',\n",
       " 'بغيركن',\n",
       " 'بغيرنا',\n",
       " 'بغيرها',\n",
       " 'بغيري',\n",
       " 'فغير',\n",
       " 'فغيرك',\n",
       " 'فغيركما',\n",
       " 'فغيركم',\n",
       " 'فغيركن',\n",
       " 'فغيرنا',\n",
       " 'فغيرها',\n",
       " 'فغيره',\n",
       " 'فغيرهما',\n",
       " 'فغيرهم',\n",
       " 'فغيرهن',\n",
       " 'فغيري',\n",
       " 'فبغيره',\n",
       " 'فبغيرهما',\n",
       " 'فبغيرهم',\n",
       " 'فبغيرهن',\n",
       " 'فبغير',\n",
       " 'فبغيرك',\n",
       " 'فبغيركما',\n",
       " 'فبغيركم',\n",
       " 'فبغيركن',\n",
       " 'فبغيرنا',\n",
       " 'فبغيرها',\n",
       " 'فبغيري',\n",
       " 'فكغيره',\n",
       " 'فكغيرهما',\n",
       " 'فكغيرهم',\n",
       " 'فكغيرهن',\n",
       " 'فكغير',\n",
       " 'فكغيرك',\n",
       " 'فكغيركما',\n",
       " 'فكغيركم',\n",
       " 'فكغيركن',\n",
       " 'فكغيرنا',\n",
       " 'فكغيرها',\n",
       " 'فكغيري',\n",
       " 'فلغير',\n",
       " 'فلغيرك',\n",
       " 'فلغيركما',\n",
       " 'فلغيركم',\n",
       " 'فلغيركن',\n",
       " 'فلغيرنا',\n",
       " 'فلغيرها',\n",
       " 'فلغيره',\n",
       " 'فلغيرهما',\n",
       " 'فلغيرهم',\n",
       " 'فلغيرهن',\n",
       " 'فلغيري',\n",
       " 'كغيره',\n",
       " 'كغيرهما',\n",
       " 'كغيرهم',\n",
       " 'كغيرهن',\n",
       " 'كغير',\n",
       " 'كغيرك',\n",
       " 'كغيركما',\n",
       " 'كغيركم',\n",
       " 'كغيركن',\n",
       " 'كغيرنا',\n",
       " 'كغيرها',\n",
       " 'كغيري',\n",
       " 'لغيره',\n",
       " 'لغيرهما',\n",
       " 'لغيرهم',\n",
       " 'لغيرهن',\n",
       " 'لغير',\n",
       " 'لغيرك',\n",
       " 'لغيركما',\n",
       " 'لغيركم',\n",
       " 'لغيركن',\n",
       " 'لغيرنا',\n",
       " 'لغيرها',\n",
       " 'لغيري',\n",
       " 'وغير',\n",
       " 'وغيرك',\n",
       " 'وغيركما',\n",
       " 'وغيركم',\n",
       " 'وغيركن',\n",
       " 'وغيرنا',\n",
       " 'وغيرها',\n",
       " 'وغيره',\n",
       " 'وغيرهما',\n",
       " 'وغيرهم',\n",
       " 'وغيرهن',\n",
       " 'وغيري',\n",
       " 'وبغيره',\n",
       " 'وبغيرهما',\n",
       " 'وبغيرهم',\n",
       " 'وبغيرهن',\n",
       " 'وبغير',\n",
       " 'وبغيرك',\n",
       " 'وبغيركما',\n",
       " 'وبغيركم',\n",
       " 'وبغيركن',\n",
       " 'وبغيرنا',\n",
       " 'وبغيرها',\n",
       " 'وبغيري',\n",
       " 'وكغيره',\n",
       " 'وكغيرهما',\n",
       " 'وكغيرهم',\n",
       " 'وكغيرهن',\n",
       " 'وكغير',\n",
       " 'وكغيرك',\n",
       " 'وكغيركما',\n",
       " 'وكغيركم',\n",
       " 'وكغيركن',\n",
       " 'وكغيرنا',\n",
       " 'وكغيرها',\n",
       " 'وكغيري',\n",
       " 'ولغير',\n",
       " 'ولغيرك',\n",
       " 'ولغيركما',\n",
       " 'ولغيركم',\n",
       " 'ولغيركن',\n",
       " 'ولغيرنا',\n",
       " 'ولغيرها',\n",
       " 'ولغيره',\n",
       " 'ولغيرهما',\n",
       " 'ولغيرهم',\n",
       " 'ولغيرهن',\n",
       " 'ولغيري',\n",
       " 'لاسيما',\n",
       " 'فلاسيما',\n",
       " 'ولاسيما',\n",
       " 'أولئك',\n",
       " 'أكأولئك',\n",
       " 'أأولئك',\n",
       " 'أبأولئك',\n",
       " 'أفأولئك',\n",
       " 'أفبأولئك',\n",
       " 'أفكأولئك',\n",
       " 'أفلأولئك',\n",
       " 'ألأولئك',\n",
       " 'أوأولئك',\n",
       " 'أوبأولئك',\n",
       " 'أوكأولئك',\n",
       " 'أولأولئك',\n",
       " 'بأولئك',\n",
       " 'فأولئك',\n",
       " 'فبأولئك',\n",
       " 'فكأولئك',\n",
       " 'فلأولئك',\n",
       " 'كأولئك',\n",
       " 'لأولئك',\n",
       " 'وأولئك',\n",
       " 'وبأولئك',\n",
       " 'وكأولئك',\n",
       " 'ولأولئك',\n",
       " 'أولئكم',\n",
       " 'أكأولئكم',\n",
       " 'أأولئكم',\n",
       " 'أبأولئكم',\n",
       " 'أفأولئكم',\n",
       " 'أفبأولئكم',\n",
       " 'أفكأولئكم',\n",
       " 'أفلأولئكم',\n",
       " 'ألأولئكم',\n",
       " 'أوأولئكم',\n",
       " 'أوبأولئكم',\n",
       " 'أوكأولئكم',\n",
       " 'أولأولئكم',\n",
       " 'بأولئكم',\n",
       " 'فأولئكم',\n",
       " 'فبأولئكم',\n",
       " 'فكأولئكم',\n",
       " 'فلأولئكم',\n",
       " 'كأولئكم',\n",
       " 'لأولئكم',\n",
       " 'وأولئكم',\n",
       " 'وبأولئكم',\n",
       " 'وكأولئكم',\n",
       " 'ولأولئكم',\n",
       " 'أولاء',\n",
       " 'أكأولاء',\n",
       " 'أأولاء',\n",
       " 'أبأولاء',\n",
       " 'أفأولاء',\n",
       " 'أفبأولاء',\n",
       " 'أفكأولاء',\n",
       " 'أفلأولاء',\n",
       " 'ألأولاء',\n",
       " 'أوأولاء',\n",
       " 'أوبأولاء',\n",
       " 'أوكأولاء',\n",
       " 'أولأولاء',\n",
       " 'بأولاء',\n",
       " 'فأولاء',\n",
       " 'فبأولاء',\n",
       " 'فكأولاء',\n",
       " 'فلأولاء',\n",
       " 'كأولاء',\n",
       " 'لأولاء',\n",
       " 'وأولاء',\n",
       " 'وبأولاء',\n",
       " 'وكأولاء',\n",
       " 'ولأولاء',\n",
       " 'أولالك',\n",
       " 'أكأولالك',\n",
       " 'أأولالك',\n",
       " 'أبأولالك',\n",
       " 'أفأولالك',\n",
       " 'أفبأولالك',\n",
       " 'أفكأولالك',\n",
       " 'أفلأولالك',\n",
       " 'ألأولالك',\n",
       " 'أوأولالك',\n",
       " 'أوبأولالك',\n",
       " 'أوكأولالك',\n",
       " 'أولأولالك',\n",
       " 'بأولالك',\n",
       " 'فأولالك',\n",
       " 'فبأولالك',\n",
       " 'فكأولالك',\n",
       " 'فلأولالك',\n",
       " 'كأولالك',\n",
       " 'لأولالك',\n",
       " 'وأولالك',\n",
       " 'وبأولالك',\n",
       " 'وكأولالك',\n",
       " 'ولأولالك',\n",
       " 'تان',\n",
       " 'فتان',\n",
       " 'وتان',\n",
       " 'تانك',\n",
       " 'بتانك',\n",
       " 'فتانك',\n",
       " 'فبتانك',\n",
       " 'فكتانك',\n",
       " 'فلتانك',\n",
       " 'كتانك',\n",
       " 'لتانك',\n",
       " 'وتانك',\n",
       " 'وبتانك',\n",
       " 'وكتانك',\n",
       " 'ولتانك',\n",
       " 'تلك',\n",
       " 'أكتلك',\n",
       " 'أتلك',\n",
       " 'أبتلك',\n",
       " 'أفتلك',\n",
       " 'أفبتلك',\n",
       " 'أفكتلك',\n",
       " 'أفلتلك',\n",
       " 'ألتلك',\n",
       " 'أوتلك',\n",
       " 'أوبتلك',\n",
       " 'أوكتلك',\n",
       " 'أولتلك',\n",
       " 'بتلك',\n",
       " 'فتلك',\n",
       " 'فبتلك',\n",
       " 'فكتلك',\n",
       " 'فلتلك',\n",
       " 'كتلك',\n",
       " 'لتلك',\n",
       " 'وتلك',\n",
       " 'وبتلك',\n",
       " 'وكتلك',\n",
       " 'ولتلك',\n",
       " 'تلكم',\n",
       " 'أكتلكم',\n",
       " 'أتلكم',\n",
       " 'أبتلكم',\n",
       " 'أفتلكم',\n",
       " 'أفبتلكم',\n",
       " 'أفكتلكم',\n",
       " 'أفلتلكم',\n",
       " 'ألتلكم',\n",
       " 'أوتلكم',\n",
       " 'أوبتلكم',\n",
       " 'أوكتلكم',\n",
       " 'أولتلكم',\n",
       " 'بتلكم',\n",
       " 'فتلكم',\n",
       " 'فبتلكم',\n",
       " 'فكتلكم',\n",
       " 'فلتلكم',\n",
       " 'كتلكم',\n",
       " 'لتلكم',\n",
       " 'وتلكم',\n",
       " 'وبتلكم',\n",
       " ...]"
      ]
     },
     "execution_count": 24,
     "metadata": {},
     "output_type": "execute_result"
    }
   ],
   "source": [
    "stp.stopwords_list()"
   ]
  },
  {
   "cell_type": "code",
   "execution_count": 25,
   "id": "9b6a9005",
   "metadata": {
    "execution": {
     "iopub.execute_input": "2024-11-18T17:41:51.756110Z",
     "iopub.status.busy": "2024-11-18T17:41:51.755402Z",
     "iopub.status.idle": "2024-11-18T17:41:51.761476Z",
     "shell.execute_reply": "2024-11-18T17:41:51.760565Z"
    },
    "papermill": {
     "duration": 0.017823,
     "end_time": "2024-11-18T17:41:51.763416",
     "exception": false,
     "start_time": "2024-11-18T17:41:51.745593",
     "status": "completed"
    },
    "tags": []
   },
   "outputs": [
    {
     "data": {
      "text/plain": [
       "False"
      ]
     },
     "execution_count": 25,
     "metadata": {},
     "output_type": "execute_result"
    }
   ],
   "source": [
    "stp.is_stop(u'ممكن')"
   ]
  },
  {
   "cell_type": "code",
   "execution_count": 26,
   "id": "5caf3e3d",
   "metadata": {
    "execution": {
     "iopub.execute_input": "2024-11-18T17:41:51.782839Z",
     "iopub.status.busy": "2024-11-18T17:41:51.782459Z",
     "iopub.status.idle": "2024-11-18T17:41:51.791056Z",
     "shell.execute_reply": "2024-11-18T17:41:51.790132Z"
    },
    "papermill": {
     "duration": 0.020672,
     "end_time": "2024-11-18T17:41:51.793073",
     "exception": false,
     "start_time": "2024-11-18T17:41:51.772401",
     "status": "completed"
    },
    "tags": []
   },
   "outputs": [
    {
     "data": {
      "text/plain": [
       "['أوعلى',\n",
       " 'أفعليها',\n",
       " 'أفعلي',\n",
       " 'ولعليكم',\n",
       " 'لعليكم',\n",
       " 'فلعليهن',\n",
       " 'ولعلي',\n",
       " 'عليهما',\n",
       " 'لعليكما',\n",
       " 'ألعليهن',\n",
       " 'أفعليك',\n",
       " 'أولعليكن',\n",
       " 'ولعليها',\n",
       " 'أفعليكما',\n",
       " 'عليكن',\n",
       " 'أوعليهم',\n",
       " 'لعليهن',\n",
       " 'فعليكم',\n",
       " 'ألعلي',\n",
       " 'أفلعليك',\n",
       " 'وعليه',\n",
       " 'فعلي',\n",
       " 'ولعليهما',\n",
       " 'ألعليكن',\n",
       " 'أفعليهم',\n",
       " 'أوعليكما',\n",
       " 'ولعليكن',\n",
       " 'لعلينا',\n",
       " 'فعليه',\n",
       " 'ألعليكما',\n",
       " 'لعليك',\n",
       " 'أولعلي',\n",
       " 'أفلعلينا',\n",
       " 'علينا',\n",
       " 'عليهن',\n",
       " 'ألعليك',\n",
       " 'أوعليهما',\n",
       " 'أوعلي',\n",
       " 'أوعليه',\n",
       " 'أفلعليهن',\n",
       " 'فعليكن',\n",
       " 'أفلعليهما',\n",
       " 'عليهم',\n",
       " 'وعليهم',\n",
       " 'وعليك',\n",
       " 'فعليهن',\n",
       " 'أعليكم',\n",
       " 'ولعليه',\n",
       " 'أعليك',\n",
       " 'ولعليهم',\n",
       " 'وعليكن',\n",
       " 'لعليه',\n",
       " 'أفلعليه',\n",
       " 'عليها',\n",
       " 'فلعليهم',\n",
       " 'أفعلى',\n",
       " 'لعلى',\n",
       " 'فلعليك',\n",
       " 'لعليهما',\n",
       " 'ألعلى',\n",
       " 'وعليها',\n",
       " 'أولعليكم',\n",
       " 'أعليها',\n",
       " 'أوعلينا',\n",
       " 'ألعليه',\n",
       " 'أولعليهن',\n",
       " 'ولعليك',\n",
       " 'أعليه',\n",
       " 'أعليهن',\n",
       " 'أولعليها',\n",
       " 'فلعليهما',\n",
       " 'أفلعليها',\n",
       " 'أفعليهما',\n",
       " 'فلعليه',\n",
       " 'ألعليها',\n",
       " 'فلعليها',\n",
       " 'أفلعلى',\n",
       " 'فعليهما',\n",
       " 'أولعليهم',\n",
       " 'على',\n",
       " 'فلعليكم',\n",
       " 'أعليهم',\n",
       " 'أعليكن',\n",
       " 'لعليهم',\n",
       " 'وعليهما',\n",
       " 'أولعلى',\n",
       " 'أفعليهن',\n",
       " 'عليه',\n",
       " 'أفلعليكما',\n",
       " 'أفلعليكم',\n",
       " 'أولعليه',\n",
       " 'عليك',\n",
       " 'أولعليك',\n",
       " 'فعليهم',\n",
       " 'ولعلى',\n",
       " 'أعليهما',\n",
       " 'فلعلي',\n",
       " 'أفلعلي',\n",
       " 'وعليكم',\n",
       " 'أفعليكم',\n",
       " 'ألعليهما',\n",
       " 'وعليكما',\n",
       " 'أعلى',\n",
       " 'لعليكن',\n",
       " 'أولعلينا',\n",
       " 'لعليها',\n",
       " 'ألعليكم',\n",
       " 'ولعلينا',\n",
       " 'وعليهن',\n",
       " 'فلعليكما',\n",
       " 'فعليكما',\n",
       " 'أعلينا',\n",
       " 'أوعليكن',\n",
       " 'فعليها',\n",
       " 'أفعلينا',\n",
       " 'وعلينا',\n",
       " 'ولعليهن',\n",
       " 'أوعليهن',\n",
       " 'أعليكما',\n",
       " 'عليكما',\n",
       " 'فلعليكن',\n",
       " 'وعلي',\n",
       " 'فلعلى',\n",
       " 'أوعليك',\n",
       " 'عليكم',\n",
       " 'ألعليهم',\n",
       " 'فعلى',\n",
       " 'أولعليكما',\n",
       " 'أفلعليكن',\n",
       " 'أفعليه',\n",
       " 'ولعليكما',\n",
       " 'أولعليهما',\n",
       " 'فلعلينا',\n",
       " 'أفعليكن',\n",
       " 'لعلي',\n",
       " 'ألعلينا',\n",
       " 'علي',\n",
       " 'أوعليكم',\n",
       " 'أعلي',\n",
       " 'فعليك',\n",
       " 'فعلينا',\n",
       " 'وعلى',\n",
       " 'أفلعليهم',\n",
       " 'أوعليها']"
      ]
     },
     "execution_count": 26,
     "metadata": {},
     "output_type": "execute_result"
    }
   ],
   "source": [
    "stp.stopword_forms(u\"على\")"
   ]
  },
  {
   "cell_type": "code",
   "execution_count": 27,
   "id": "9ffc4345",
   "metadata": {
    "execution": {
     "iopub.execute_input": "2024-11-18T17:41:51.813011Z",
     "iopub.status.busy": "2024-11-18T17:41:51.812645Z",
     "iopub.status.idle": "2024-11-18T17:41:51.819321Z",
     "shell.execute_reply": "2024-11-18T17:41:51.818357Z"
    },
    "papermill": {
     "duration": 0.018989,
     "end_time": "2024-11-18T17:41:51.821398",
     "exception": false,
     "start_time": "2024-11-18T17:41:51.802409",
     "status": "completed"
    },
    "tags": []
   },
   "outputs": [
    {
     "data": {
      "text/plain": [
       "'I went university bus monday friend 9:00'"
      ]
     },
     "execution_count": 27,
     "metadata": {},
     "output_type": "execute_result"
    }
   ],
   "source": [
    "SW  = ['on','at','with','the','by','to','this','my']\n",
    "\n",
    "T = 'I went to the university by bus On this monday with My friend at 9:00'\n",
    "\n",
    "' '.join([i for i in T.split() if  not i.lower() in SW])"
   ]
  }
 ],
 "metadata": {
  "kaggle": {
   "accelerator": "none",
   "dataSources": [],
   "dockerImageVersionId": 30786,
   "isGpuEnabled": false,
   "isInternetEnabled": true,
   "language": "python",
   "sourceType": "notebook"
  },
  "kernelspec": {
   "display_name": "Python 3",
   "language": "python",
   "name": "python3"
  },
  "language_info": {
   "codemirror_mode": {
    "name": "ipython",
    "version": 3
   },
   "file_extension": ".py",
   "mimetype": "text/x-python",
   "name": "python",
   "nbconvert_exporter": "python",
   "pygments_lexer": "ipython3",
   "version": "3.10.14"
  },
  "papermill": {
   "default_parameters": {},
   "duration": 24.918373,
   "end_time": "2024-11-18T17:41:53.052875",
   "environment_variables": {},
   "exception": null,
   "input_path": "__notebook__.ipynb",
   "output_path": "__notebook__.ipynb",
   "parameters": {},
   "start_time": "2024-11-18T17:41:28.134502",
   "version": "2.6.0"
  }
 },
 "nbformat": 4,
 "nbformat_minor": 5
}
